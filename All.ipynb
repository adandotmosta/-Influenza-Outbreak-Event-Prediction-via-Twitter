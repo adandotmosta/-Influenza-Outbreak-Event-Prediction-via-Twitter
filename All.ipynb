{
 "cells": [
  {
   "cell_type": "code",
   "execution_count": 23,
   "metadata": {},
   "outputs": [],
   "source": [
    "from sklearn.ensemble import RandomForestClassifier\n",
    "from sklearn.naive_bayes import GaussianNB\n",
    "from sklearn.metrics import accuracy_score, confusion_matrix, precision_score, recall_score, f1_score,classification_report\n",
    "import pandas as pd\n",
    "from sklearn.preprocessing import OneHotEncoder\n",
    "import numpy as np\n",
    "import matplotlib.pyplot as plt\n",
    "from sklearn.decomposition import PCA\n",
    "from sklearn.svm import SVC\n",
    "from sklearn.neighbors import KNeighborsClassifier\n",
    "from collections import Counter\n",
    "from mpl_toolkits.mplot3d import Axes3D  \n",
    "from imblearn.over_sampling import ADASYN\n",
    "\n"
   ]
  },
  {
   "cell_type": "code",
   "execution_count": 24,
   "metadata": {},
   "outputs": [],
   "source": [
    "\n",
    "# import tensorflow as tf\n",
    "# physical_devices = tf.config.list_physical_devices('GPU')\n",
    "# tf.config.experimental.set_memory_growth(physical_devices[0], True)"
   ]
  },
  {
   "cell_type": "code",
   "execution_count": 25,
   "metadata": {},
   "outputs": [],
   "source": [
    "\n",
    "\n",
    "X_train = pd.read_csv('X_train_self.csv')\n",
    "\n",
    "X_test = pd.read_csv('X_test_self.csv')\n",
    "\n",
    "y_train = pd.read_csv('y_train_self.csv')\n",
    "\n",
    "y_test = pd.read_csv('y_test_self.csv')\n"
   ]
  },
  {
   "cell_type": "code",
   "execution_count": 26,
   "metadata": {},
   "outputs": [
    {
     "name": "stdout",
     "output_type": "stream",
     "text": [
      "Shape of X_train: (52560, 527)\n",
      "Shape of y_train: (52560, 2)\n"
     ]
    }
   ],
   "source": [
    "print(\"Shape of X_train:\", X_train.shape)\n",
    "print(\"Shape of y_train:\", y_train.shape)\n"
   ]
  },
  {
   "cell_type": "code",
   "execution_count": 27,
   "metadata": {},
   "outputs": [],
   "source": [
    "y_train = y_train['target']\n",
    "y_test = y_test['target']"
   ]
  },
  {
   "cell_type": "code",
   "execution_count": 28,
   "metadata": {},
   "outputs": [
    {
     "data": {
      "text/plain": [
       "array([['wyoming'],\n",
       "       ['wyoming'],\n",
       "       ['wyoming'],\n",
       "       ...,\n",
       "       ['new mexico'],\n",
       "       ['new mexico'],\n",
       "       ['new mexico']], dtype=object)"
      ]
     },
     "execution_count": 28,
     "metadata": {},
     "output_type": "execute_result"
    }
   ],
   "source": [
    "X_train[\"state\"].values.reshape(-1,1)"
   ]
  },
  {
   "cell_type": "code",
   "execution_count": 29,
   "metadata": {},
   "outputs": [
    {
     "name": "stdout",
     "output_type": "stream",
     "text": [
      "['alabama' 'alaska' 'arizona' 'arkansas' 'california' 'colorado'\n",
      " 'connecticut' 'delaware' 'district of columbia' 'florida' 'georgia'\n",
      " 'hawaii' 'idaho' 'illinois' 'indiana' 'iowa' 'kansas' 'louisiana' 'maine'\n",
      " 'maryland' 'massachusetts' 'michigan' 'minnesota' 'mississippi'\n",
      " 'missouri' 'nebraska' 'nevada' 'new hampshire' 'new jersey' 'new mexico'\n",
      " 'new york' 'north carolina' 'north dakota' 'ohio' 'oklahoma' 'oregon'\n",
      " 'pennsylvania' 'rhode island' 'south carolina' 'tennessee' 'texas' 'utah'\n",
      " 'vermont' 'virginia' 'washington' 'west virginia' 'wisconsin' 'wyoming']\n"
     ]
    }
   ],
   "source": [
    "\n",
    "encoder = OneHotEncoder()\n",
    "\n",
    "encoder.fit(X_train['state'].values.reshape(-1, 1))\n",
    "\n",
    "X_train_encoded = encoder.transform(X_train['state'].values.reshape(-1, 1))\n",
    "X_test_encoded = encoder.transform(X_test['state'].values.reshape(-1, 1))\n",
    "\n",
    "X_train_encoded = X_train_encoded.toarray()\n",
    "X_test_encoded = X_test_encoded.toarray()\n",
    "\n",
    "print(encoder.categories_[0])"
   ]
  },
  {
   "cell_type": "code",
   "execution_count": 30,
   "metadata": {},
   "outputs": [],
   "source": [
    "X_train_encoded_df = pd.DataFrame(X_train_encoded, columns=encoder.categories_[0])\n",
    "X_test_encoded_df = pd.DataFrame(X_test_encoded, columns=encoder.categories_[0])"
   ]
  },
  {
   "cell_type": "code",
   "execution_count": 31,
   "metadata": {},
   "outputs": [],
   "source": [
    "X_train = pd.concat([X_train, X_train_encoded_df], axis=1)\n",
    "X_test = pd.concat([X_test, X_test_encoded_df], axis=1)\n",
    "X_train.drop('state', axis=1, inplace=True)\n",
    "X_test.drop('state', axis=1, inplace=True)"
   ]
  },
  {
   "cell_type": "code",
   "execution_count": 32,
   "metadata": {},
   "outputs": [
    {
     "data": {
      "text/html": [
       "<div>\n",
       "<style scoped>\n",
       "    .dataframe tbody tr th:only-of-type {\n",
       "        vertical-align: middle;\n",
       "    }\n",
       "\n",
       "    .dataframe tbody tr th {\n",
       "        vertical-align: top;\n",
       "    }\n",
       "\n",
       "    .dataframe thead th {\n",
       "        text-align: right;\n",
       "    }\n",
       "</style>\n",
       "<table border=\"1\" class=\"dataframe\">\n",
       "  <thead>\n",
       "    <tr style=\"text-align: right;\">\n",
       "      <th></th>\n",
       "      <th>Unnamed: 0</th>\n",
       "      <th>flu</th>\n",
       "      <th>swine</th>\n",
       "      <th>stomach</th>\n",
       "      <th>symptoms</th>\n",
       "      <th>virus</th>\n",
       "      <th>bug</th>\n",
       "      <th>strep</th>\n",
       "      <th>season</th>\n",
       "      <th>influenza</th>\n",
       "      <th>...</th>\n",
       "      <th>south carolina</th>\n",
       "      <th>tennessee</th>\n",
       "      <th>texas</th>\n",
       "      <th>utah</th>\n",
       "      <th>vermont</th>\n",
       "      <th>virginia</th>\n",
       "      <th>washington</th>\n",
       "      <th>west virginia</th>\n",
       "      <th>wisconsin</th>\n",
       "      <th>wyoming</th>\n",
       "    </tr>\n",
       "  </thead>\n",
       "  <tbody>\n",
       "    <tr>\n",
       "      <th>0</th>\n",
       "      <td>0</td>\n",
       "      <td>0.0</td>\n",
       "      <td>0.0</td>\n",
       "      <td>0.0</td>\n",
       "      <td>0.0</td>\n",
       "      <td>0.0</td>\n",
       "      <td>0.0</td>\n",
       "      <td>0.0</td>\n",
       "      <td>0.0</td>\n",
       "      <td>0.0</td>\n",
       "      <td>...</td>\n",
       "      <td>0.0</td>\n",
       "      <td>0.0</td>\n",
       "      <td>0.0</td>\n",
       "      <td>0.0</td>\n",
       "      <td>0.0</td>\n",
       "      <td>0.0</td>\n",
       "      <td>0.0</td>\n",
       "      <td>0.0</td>\n",
       "      <td>0.0</td>\n",
       "      <td>1.0</td>\n",
       "    </tr>\n",
       "    <tr>\n",
       "      <th>1</th>\n",
       "      <td>1</td>\n",
       "      <td>0.0</td>\n",
       "      <td>0.0</td>\n",
       "      <td>0.0</td>\n",
       "      <td>0.0</td>\n",
       "      <td>0.0</td>\n",
       "      <td>0.0</td>\n",
       "      <td>0.0</td>\n",
       "      <td>0.0</td>\n",
       "      <td>0.0</td>\n",
       "      <td>...</td>\n",
       "      <td>0.0</td>\n",
       "      <td>0.0</td>\n",
       "      <td>0.0</td>\n",
       "      <td>0.0</td>\n",
       "      <td>0.0</td>\n",
       "      <td>0.0</td>\n",
       "      <td>0.0</td>\n",
       "      <td>0.0</td>\n",
       "      <td>0.0</td>\n",
       "      <td>1.0</td>\n",
       "    </tr>\n",
       "    <tr>\n",
       "      <th>2</th>\n",
       "      <td>2</td>\n",
       "      <td>0.0</td>\n",
       "      <td>0.0</td>\n",
       "      <td>0.0</td>\n",
       "      <td>0.0</td>\n",
       "      <td>0.0</td>\n",
       "      <td>0.0</td>\n",
       "      <td>0.0</td>\n",
       "      <td>0.0</td>\n",
       "      <td>0.0</td>\n",
       "      <td>...</td>\n",
       "      <td>0.0</td>\n",
       "      <td>0.0</td>\n",
       "      <td>0.0</td>\n",
       "      <td>0.0</td>\n",
       "      <td>0.0</td>\n",
       "      <td>0.0</td>\n",
       "      <td>0.0</td>\n",
       "      <td>0.0</td>\n",
       "      <td>0.0</td>\n",
       "      <td>1.0</td>\n",
       "    </tr>\n",
       "    <tr>\n",
       "      <th>3</th>\n",
       "      <td>3</td>\n",
       "      <td>0.0</td>\n",
       "      <td>0.0</td>\n",
       "      <td>0.0</td>\n",
       "      <td>0.0</td>\n",
       "      <td>0.0</td>\n",
       "      <td>0.0</td>\n",
       "      <td>0.0</td>\n",
       "      <td>0.0</td>\n",
       "      <td>0.0</td>\n",
       "      <td>...</td>\n",
       "      <td>0.0</td>\n",
       "      <td>0.0</td>\n",
       "      <td>0.0</td>\n",
       "      <td>0.0</td>\n",
       "      <td>0.0</td>\n",
       "      <td>0.0</td>\n",
       "      <td>0.0</td>\n",
       "      <td>0.0</td>\n",
       "      <td>0.0</td>\n",
       "      <td>1.0</td>\n",
       "    </tr>\n",
       "    <tr>\n",
       "      <th>4</th>\n",
       "      <td>4</td>\n",
       "      <td>0.0</td>\n",
       "      <td>0.0</td>\n",
       "      <td>0.0</td>\n",
       "      <td>0.0</td>\n",
       "      <td>0.0</td>\n",
       "      <td>0.0</td>\n",
       "      <td>0.0</td>\n",
       "      <td>0.0</td>\n",
       "      <td>0.0</td>\n",
       "      <td>...</td>\n",
       "      <td>0.0</td>\n",
       "      <td>0.0</td>\n",
       "      <td>0.0</td>\n",
       "      <td>0.0</td>\n",
       "      <td>0.0</td>\n",
       "      <td>0.0</td>\n",
       "      <td>0.0</td>\n",
       "      <td>0.0</td>\n",
       "      <td>0.0</td>\n",
       "      <td>1.0</td>\n",
       "    </tr>\n",
       "    <tr>\n",
       "      <th>...</th>\n",
       "      <td>...</td>\n",
       "      <td>...</td>\n",
       "      <td>...</td>\n",
       "      <td>...</td>\n",
       "      <td>...</td>\n",
       "      <td>...</td>\n",
       "      <td>...</td>\n",
       "      <td>...</td>\n",
       "      <td>...</td>\n",
       "      <td>...</td>\n",
       "      <td>...</td>\n",
       "      <td>...</td>\n",
       "      <td>...</td>\n",
       "      <td>...</td>\n",
       "      <td>...</td>\n",
       "      <td>...</td>\n",
       "      <td>...</td>\n",
       "      <td>...</td>\n",
       "      <td>...</td>\n",
       "      <td>...</td>\n",
       "      <td>...</td>\n",
       "    </tr>\n",
       "    <tr>\n",
       "      <th>52555</th>\n",
       "      <td>1090</td>\n",
       "      <td>1.0</td>\n",
       "      <td>1.0</td>\n",
       "      <td>1.0</td>\n",
       "      <td>1.0</td>\n",
       "      <td>1.0</td>\n",
       "      <td>1.0</td>\n",
       "      <td>1.0</td>\n",
       "      <td>1.0</td>\n",
       "      <td>1.0</td>\n",
       "      <td>...</td>\n",
       "      <td>0.0</td>\n",
       "      <td>0.0</td>\n",
       "      <td>0.0</td>\n",
       "      <td>0.0</td>\n",
       "      <td>0.0</td>\n",
       "      <td>0.0</td>\n",
       "      <td>0.0</td>\n",
       "      <td>0.0</td>\n",
       "      <td>0.0</td>\n",
       "      <td>0.0</td>\n",
       "    </tr>\n",
       "    <tr>\n",
       "      <th>52556</th>\n",
       "      <td>1091</td>\n",
       "      <td>1.0</td>\n",
       "      <td>1.0</td>\n",
       "      <td>1.0</td>\n",
       "      <td>2.0</td>\n",
       "      <td>2.0</td>\n",
       "      <td>2.0</td>\n",
       "      <td>2.0</td>\n",
       "      <td>2.0</td>\n",
       "      <td>2.0</td>\n",
       "      <td>...</td>\n",
       "      <td>0.0</td>\n",
       "      <td>0.0</td>\n",
       "      <td>0.0</td>\n",
       "      <td>0.0</td>\n",
       "      <td>0.0</td>\n",
       "      <td>0.0</td>\n",
       "      <td>0.0</td>\n",
       "      <td>0.0</td>\n",
       "      <td>0.0</td>\n",
       "      <td>0.0</td>\n",
       "    </tr>\n",
       "    <tr>\n",
       "      <th>52557</th>\n",
       "      <td>1092</td>\n",
       "      <td>0.0</td>\n",
       "      <td>0.0</td>\n",
       "      <td>0.0</td>\n",
       "      <td>0.0</td>\n",
       "      <td>0.0</td>\n",
       "      <td>0.0</td>\n",
       "      <td>0.0</td>\n",
       "      <td>0.0</td>\n",
       "      <td>0.0</td>\n",
       "      <td>...</td>\n",
       "      <td>0.0</td>\n",
       "      <td>0.0</td>\n",
       "      <td>0.0</td>\n",
       "      <td>0.0</td>\n",
       "      <td>0.0</td>\n",
       "      <td>0.0</td>\n",
       "      <td>0.0</td>\n",
       "      <td>0.0</td>\n",
       "      <td>0.0</td>\n",
       "      <td>0.0</td>\n",
       "    </tr>\n",
       "    <tr>\n",
       "      <th>52558</th>\n",
       "      <td>1093</td>\n",
       "      <td>0.0</td>\n",
       "      <td>0.0</td>\n",
       "      <td>0.0</td>\n",
       "      <td>0.0</td>\n",
       "      <td>0.0</td>\n",
       "      <td>0.0</td>\n",
       "      <td>0.0</td>\n",
       "      <td>0.0</td>\n",
       "      <td>1.0</td>\n",
       "      <td>...</td>\n",
       "      <td>0.0</td>\n",
       "      <td>0.0</td>\n",
       "      <td>0.0</td>\n",
       "      <td>0.0</td>\n",
       "      <td>0.0</td>\n",
       "      <td>0.0</td>\n",
       "      <td>0.0</td>\n",
       "      <td>0.0</td>\n",
       "      <td>0.0</td>\n",
       "      <td>0.0</td>\n",
       "    </tr>\n",
       "    <tr>\n",
       "      <th>52559</th>\n",
       "      <td>1094</td>\n",
       "      <td>0.0</td>\n",
       "      <td>0.0</td>\n",
       "      <td>0.0</td>\n",
       "      <td>0.0</td>\n",
       "      <td>0.0</td>\n",
       "      <td>0.0</td>\n",
       "      <td>0.0</td>\n",
       "      <td>0.0</td>\n",
       "      <td>0.0</td>\n",
       "      <td>...</td>\n",
       "      <td>0.0</td>\n",
       "      <td>0.0</td>\n",
       "      <td>0.0</td>\n",
       "      <td>0.0</td>\n",
       "      <td>0.0</td>\n",
       "      <td>0.0</td>\n",
       "      <td>0.0</td>\n",
       "      <td>0.0</td>\n",
       "      <td>0.0</td>\n",
       "      <td>0.0</td>\n",
       "    </tr>\n",
       "  </tbody>\n",
       "</table>\n",
       "<p>52560 rows × 574 columns</p>\n",
       "</div>"
      ],
      "text/plain": [
       "       Unnamed: 0  flu  swine  stomach  symptoms  virus  bug  strep  season  \\\n",
       "0               0  0.0    0.0      0.0       0.0    0.0  0.0    0.0     0.0   \n",
       "1               1  0.0    0.0      0.0       0.0    0.0  0.0    0.0     0.0   \n",
       "2               2  0.0    0.0      0.0       0.0    0.0  0.0    0.0     0.0   \n",
       "3               3  0.0    0.0      0.0       0.0    0.0  0.0    0.0     0.0   \n",
       "4               4  0.0    0.0      0.0       0.0    0.0  0.0    0.0     0.0   \n",
       "...           ...  ...    ...      ...       ...    ...  ...    ...     ...   \n",
       "52555        1090  1.0    1.0      1.0       1.0    1.0  1.0    1.0     1.0   \n",
       "52556        1091  1.0    1.0      1.0       2.0    2.0  2.0    2.0     2.0   \n",
       "52557        1092  0.0    0.0      0.0       0.0    0.0  0.0    0.0     0.0   \n",
       "52558        1093  0.0    0.0      0.0       0.0    0.0  0.0    0.0     0.0   \n",
       "52559        1094  0.0    0.0      0.0       0.0    0.0  0.0    0.0     0.0   \n",
       "\n",
       "       influenza  ...  south carolina  tennessee  texas  utah  vermont  \\\n",
       "0            0.0  ...             0.0        0.0    0.0   0.0      0.0   \n",
       "1            0.0  ...             0.0        0.0    0.0   0.0      0.0   \n",
       "2            0.0  ...             0.0        0.0    0.0   0.0      0.0   \n",
       "3            0.0  ...             0.0        0.0    0.0   0.0      0.0   \n",
       "4            0.0  ...             0.0        0.0    0.0   0.0      0.0   \n",
       "...          ...  ...             ...        ...    ...   ...      ...   \n",
       "52555        1.0  ...             0.0        0.0    0.0   0.0      0.0   \n",
       "52556        2.0  ...             0.0        0.0    0.0   0.0      0.0   \n",
       "52557        0.0  ...             0.0        0.0    0.0   0.0      0.0   \n",
       "52558        1.0  ...             0.0        0.0    0.0   0.0      0.0   \n",
       "52559        0.0  ...             0.0        0.0    0.0   0.0      0.0   \n",
       "\n",
       "       virginia  washington  west virginia  wisconsin  wyoming  \n",
       "0           0.0         0.0            0.0        0.0      1.0  \n",
       "1           0.0         0.0            0.0        0.0      1.0  \n",
       "2           0.0         0.0            0.0        0.0      1.0  \n",
       "3           0.0         0.0            0.0        0.0      1.0  \n",
       "4           0.0         0.0            0.0        0.0      1.0  \n",
       "...         ...         ...            ...        ...      ...  \n",
       "52555       0.0         0.0            0.0        0.0      0.0  \n",
       "52556       0.0         0.0            0.0        0.0      0.0  \n",
       "52557       0.0         0.0            0.0        0.0      0.0  \n",
       "52558       0.0         0.0            0.0        0.0      0.0  \n",
       "52559       0.0         0.0            0.0        0.0      0.0  \n",
       "\n",
       "[52560 rows x 574 columns]"
      ]
     },
     "execution_count": 32,
     "metadata": {},
     "output_type": "execute_result"
    }
   ],
   "source": [
    "X_train"
   ]
  },
  {
   "cell_type": "code",
   "execution_count": 33,
   "metadata": {},
   "outputs": [],
   "source": [
    "X_train.columns = X_train.columns.astype(str)\n",
    "X_test.columns = X_test.columns.astype(str)"
   ]
  },
  {
   "cell_type": "code",
   "execution_count": 34,
   "metadata": {},
   "outputs": [
    {
     "name": "stdout",
     "output_type": "stream",
     "text": [
      "-\n",
      "-\n",
      "-\n",
      "-\n",
      "-\n",
      "-\n",
      "-\n",
      "-\n",
      "-\n",
      "-\n",
      "-\n",
      "-\n",
      "-\n",
      "-\n",
      "-\n",
      "-\n",
      "-\n",
      "-\n",
      "-\n",
      "-\n",
      "-\n",
      "-\n",
      "-\n",
      "-\n",
      "-\n",
      "-\n",
      "-\n",
      "-\n",
      "-\n",
      "-\n",
      "-\n",
      "-\n",
      "-\n",
      "-\n",
      "-\n",
      "-\n",
      "-\n",
      "-\n",
      "-\n",
      "-\n",
      "-\n",
      "-\n",
      "-\n",
      "-\n",
      "-\n",
      "-\n",
      "-\n",
      "-\n",
      "-\n",
      "-\n",
      "-\n",
      "-\n",
      "-\n",
      "-\n",
      "-\n",
      "-\n",
      "-\n",
      "-\n",
      "-\n",
      "-\n",
      "-\n",
      "-\n",
      "-\n",
      "-\n",
      "-\n",
      "-\n",
      "-\n",
      "-\n",
      "-\n",
      "-\n",
      "-\n",
      "-\n",
      "-\n",
      "-\n",
      "-\n",
      "-\n",
      "-\n",
      "-\n",
      "-\n",
      "-\n",
      "-\n",
      "-\n",
      "-\n",
      "-\n",
      "-\n",
      "-\n",
      "-\n",
      "-\n",
      "-\n",
      "-\n",
      "-\n",
      "-\n",
      "-\n",
      "-\n",
      "-\n",
      "-\n",
      "-\n",
      "-\n",
      "-\n",
      "-\n",
      "-\n",
      "-\n",
      "-\n",
      "-\n",
      "-\n",
      "-\n",
      "-\n",
      "-\n",
      "-\n",
      "-\n",
      "-\n",
      "-\n",
      "-\n",
      "-\n",
      "-\n",
      "-\n",
      "-\n",
      "-\n",
      "-\n",
      "-\n",
      "-\n",
      "-\n",
      "-\n",
      "-\n",
      "-\n",
      "-\n",
      "-\n",
      "-\n",
      "-\n",
      "-\n",
      "-\n",
      "-\n",
      "-\n",
      "-\n",
      "-\n",
      "-\n",
      "-\n",
      "-\n",
      "-\n",
      "-\n",
      "-\n",
      "-\n",
      "-\n",
      "-\n",
      "-\n",
      "-\n",
      "-\n",
      "-\n",
      "-\n",
      "-\n",
      "-\n",
      "-\n",
      "-\n",
      "-\n",
      "-\n",
      "-\n",
      "-\n",
      "-\n",
      "-\n",
      "-\n",
      "-\n",
      "-\n",
      "-\n",
      "-\n",
      "-\n",
      "-\n",
      "-\n",
      "-\n",
      "-\n",
      "-\n",
      "-\n",
      "-\n",
      "-\n",
      "-\n",
      "-\n",
      "-\n",
      "-\n",
      "-\n",
      "-\n",
      "-\n",
      "-\n",
      "-\n",
      "-\n",
      "-\n",
      "-\n",
      "-\n",
      "-\n",
      "-\n",
      "-\n",
      "-\n",
      "-\n",
      "-\n",
      "-\n",
      "-\n",
      "-\n",
      "-\n",
      "-\n",
      "-\n",
      "-\n",
      "-\n",
      "-\n",
      "-\n",
      "-\n",
      "-\n",
      "-\n",
      "-\n",
      "-\n",
      "-\n",
      "-\n",
      "-\n",
      "-\n",
      "-\n",
      "-\n",
      "-\n",
      "-\n",
      "-\n",
      "-\n",
      "-\n",
      "-\n",
      "-\n",
      "-\n",
      "-\n",
      "-\n",
      "-\n",
      "-\n",
      "-\n",
      "-\n",
      "-\n",
      "-\n",
      "-\n",
      "-\n",
      "-\n",
      "-\n",
      "-\n",
      "-\n",
      "-\n",
      "-\n",
      "-\n",
      "-\n",
      "-\n",
      "-\n",
      "-\n",
      "-\n",
      "-\n",
      "-\n",
      "-\n",
      "-\n",
      "-\n",
      "-\n",
      "-\n",
      "-\n",
      "-\n",
      "-\n",
      "-\n",
      "-\n",
      "-\n",
      "-\n",
      "-\n",
      "-\n",
      "-\n",
      "-\n",
      "-\n",
      "-\n",
      "-\n",
      "-\n",
      "-\n",
      "-\n",
      "-\n",
      "-\n",
      "-\n",
      "-\n",
      "-\n",
      "-\n",
      "-\n",
      "-\n",
      "-\n",
      "-\n",
      "-\n",
      "-\n",
      "-\n",
      "-\n",
      "-\n",
      "-\n",
      "-\n",
      "-\n",
      "-\n",
      "-\n",
      "-\n",
      "-\n",
      "-\n",
      "-\n",
      "-\n",
      "-\n",
      "-\n",
      "-\n",
      "-\n",
      "-\n",
      "-\n",
      "-\n",
      "-\n",
      "-\n",
      "-\n",
      "-\n",
      "-\n",
      "-\n",
      "-\n",
      "-\n",
      "-\n",
      "-\n",
      "-\n",
      "-\n",
      "-\n",
      "-\n",
      "-\n",
      "-\n",
      "-\n",
      "-\n",
      "-\n",
      "-\n",
      "-\n",
      "-\n",
      "-\n",
      "-\n",
      "-\n",
      "-\n",
      "-\n",
      "-\n",
      "-\n",
      "-\n",
      "-\n",
      "-\n",
      "-\n",
      "-\n",
      "-\n",
      "-\n",
      "-\n",
      "-\n",
      "-\n",
      "-\n",
      "-\n",
      "-\n",
      "-\n",
      "-\n",
      "-\n",
      "-\n",
      "-\n",
      "-\n",
      "-\n",
      "-\n",
      "-\n",
      "-\n",
      "-\n",
      "-\n",
      "-\n",
      "-\n",
      "-\n",
      "-\n",
      "-\n",
      "-\n",
      "-\n",
      "-\n",
      "-\n",
      "-\n",
      "-\n",
      "-\n",
      "-\n",
      "-\n",
      "-\n",
      "-\n",
      "-\n",
      "-\n",
      "-\n",
      "-\n",
      "-\n",
      "-\n",
      "-\n",
      "-\n",
      "-\n",
      "-\n",
      "-\n",
      "-\n",
      "-\n",
      "-\n",
      "-\n",
      "-\n",
      "-\n",
      "-\n",
      "-\n",
      "-\n",
      "-\n",
      "-\n",
      "-\n",
      "-\n",
      "-\n",
      "-\n",
      "-\n",
      "-\n",
      "-\n",
      "-\n",
      "-\n",
      "-\n",
      "-\n",
      "-\n",
      "-\n",
      "-\n",
      "-\n",
      "-\n",
      "-\n",
      "-\n",
      "-\n",
      "-\n",
      "-\n",
      "-\n",
      "-\n",
      "-\n",
      "-\n",
      "-\n",
      "-\n",
      "-\n",
      "-\n",
      "-\n",
      "-\n",
      "-\n",
      "-\n",
      "-\n",
      "-\n",
      "-\n",
      "-\n",
      "-\n",
      "-\n",
      "-\n",
      "-\n",
      "-\n",
      "-\n",
      "-\n",
      "-\n",
      "-\n",
      "-\n",
      "-\n",
      "-\n",
      "-\n",
      "-\n",
      "-\n",
      "-\n",
      "-\n",
      "-\n",
      "-\n",
      "-\n",
      "-\n",
      "-\n",
      "-\n",
      "-\n",
      "-\n",
      "-\n",
      "-\n",
      "-\n",
      "-\n",
      "-\n",
      "-\n",
      "-\n",
      "-\n",
      "-\n",
      "-\n",
      "-\n",
      "-\n",
      "-\n",
      "-\n",
      "-\n",
      "-\n",
      "-\n",
      "-\n",
      "-\n",
      "-\n",
      "-\n",
      "-\n",
      "-\n",
      "-\n",
      "-\n",
      "-\n",
      "-\n",
      "-\n",
      "-\n",
      "-\n",
      "-\n",
      "-\n",
      "-\n",
      "-\n",
      "-\n",
      "-\n",
      "-\n",
      "-\n",
      "-\n",
      "-\n",
      "-\n",
      "-\n",
      "-\n",
      "-\n",
      "-\n",
      "-\n",
      "-\n",
      "-\n",
      "-\n",
      "-\n",
      "-\n",
      "-\n",
      "-\n",
      "-\n",
      "-\n",
      "-\n",
      "-\n",
      "-\n",
      "-\n",
      "-\n",
      "-\n",
      "-\n",
      "-\n",
      "-\n",
      "-\n",
      "-\n",
      "-\n",
      "-\n",
      "-\n",
      "-\n",
      "-\n",
      "-\n",
      "-\n",
      "-\n",
      "-\n",
      "-\n",
      "-\n",
      "-\n",
      "-\n",
      "-\n",
      "-\n",
      "-\n",
      "-\n",
      "-\n",
      "-\n",
      "-\n",
      "-\n",
      "-\n",
      "-\n",
      "-\n",
      "-\n",
      "-\n",
      "-\n",
      "-\n",
      "-\n",
      "-\n",
      "-\n",
      "-\n",
      "-\n",
      "-\n",
      "-\n",
      "-\n",
      "-\n",
      "-\n",
      "-\n",
      "-\n",
      "-\n",
      "-\n",
      "-\n",
      "-\n",
      "-\n",
      "-\n",
      "-\n",
      "-\n",
      "-\n",
      "-\n",
      "-\n",
      "-\n",
      "-\n",
      "-\n",
      "-\n"
     ]
    }
   ],
   "source": [
    "concatenated_df = pd.concat([X_train, X_test])\n",
    "\n",
    "missing_values = concatenated_df.isna().sum()\n",
    "\n",
    "for column_name, num_missing in missing_values.items():\n",
    "    if num_missing > 0:\n",
    "        print(f\"Column '{column_name}' has {num_missing} missing values.\")\n",
    "    else :\n",
    "        print(\"-\")"
   ]
  },
  {
   "cell_type": "code",
   "execution_count": 35,
   "metadata": {},
   "outputs": [],
   "source": [
    "X_train.fillna(0, inplace=True)\n",
    "X_test.fillna(0, inplace=True)\n"
   ]
  },
  {
   "cell_type": "code",
   "execution_count": 36,
   "metadata": {},
   "outputs": [
    {
     "data": {
      "text/html": [
       "<div>\n",
       "<style scoped>\n",
       "    .dataframe tbody tr th:only-of-type {\n",
       "        vertical-align: middle;\n",
       "    }\n",
       "\n",
       "    .dataframe tbody tr th {\n",
       "        vertical-align: top;\n",
       "    }\n",
       "\n",
       "    .dataframe thead th {\n",
       "        text-align: right;\n",
       "    }\n",
       "</style>\n",
       "<table border=\"1\" class=\"dataframe\">\n",
       "  <thead>\n",
       "    <tr style=\"text-align: right;\">\n",
       "      <th></th>\n",
       "      <th>Unnamed: 0</th>\n",
       "      <th>flu</th>\n",
       "      <th>swine</th>\n",
       "      <th>stomach</th>\n",
       "      <th>symptoms</th>\n",
       "      <th>virus</th>\n",
       "      <th>bug</th>\n",
       "      <th>strep</th>\n",
       "      <th>season</th>\n",
       "      <th>influenza</th>\n",
       "      <th>...</th>\n",
       "      <th>south carolina</th>\n",
       "      <th>tennessee</th>\n",
       "      <th>texas</th>\n",
       "      <th>utah</th>\n",
       "      <th>vermont</th>\n",
       "      <th>virginia</th>\n",
       "      <th>washington</th>\n",
       "      <th>west virginia</th>\n",
       "      <th>wisconsin</th>\n",
       "      <th>wyoming</th>\n",
       "    </tr>\n",
       "  </thead>\n",
       "  <tbody>\n",
       "    <tr>\n",
       "      <th>0</th>\n",
       "      <td>0</td>\n",
       "      <td>0.0</td>\n",
       "      <td>0.0</td>\n",
       "      <td>0.0</td>\n",
       "      <td>0.0</td>\n",
       "      <td>0.0</td>\n",
       "      <td>0.0</td>\n",
       "      <td>0.0</td>\n",
       "      <td>0.0</td>\n",
       "      <td>0.0</td>\n",
       "      <td>...</td>\n",
       "      <td>0.0</td>\n",
       "      <td>0.0</td>\n",
       "      <td>0.0</td>\n",
       "      <td>0.0</td>\n",
       "      <td>0.0</td>\n",
       "      <td>0.0</td>\n",
       "      <td>0.0</td>\n",
       "      <td>0.0</td>\n",
       "      <td>0.0</td>\n",
       "      <td>1.0</td>\n",
       "    </tr>\n",
       "    <tr>\n",
       "      <th>1</th>\n",
       "      <td>1</td>\n",
       "      <td>0.0</td>\n",
       "      <td>0.0</td>\n",
       "      <td>0.0</td>\n",
       "      <td>0.0</td>\n",
       "      <td>0.0</td>\n",
       "      <td>0.0</td>\n",
       "      <td>0.0</td>\n",
       "      <td>0.0</td>\n",
       "      <td>0.0</td>\n",
       "      <td>...</td>\n",
       "      <td>0.0</td>\n",
       "      <td>0.0</td>\n",
       "      <td>0.0</td>\n",
       "      <td>0.0</td>\n",
       "      <td>0.0</td>\n",
       "      <td>0.0</td>\n",
       "      <td>0.0</td>\n",
       "      <td>0.0</td>\n",
       "      <td>0.0</td>\n",
       "      <td>1.0</td>\n",
       "    </tr>\n",
       "    <tr>\n",
       "      <th>2</th>\n",
       "      <td>2</td>\n",
       "      <td>0.0</td>\n",
       "      <td>0.0</td>\n",
       "      <td>0.0</td>\n",
       "      <td>0.0</td>\n",
       "      <td>0.0</td>\n",
       "      <td>0.0</td>\n",
       "      <td>0.0</td>\n",
       "      <td>0.0</td>\n",
       "      <td>0.0</td>\n",
       "      <td>...</td>\n",
       "      <td>0.0</td>\n",
       "      <td>0.0</td>\n",
       "      <td>0.0</td>\n",
       "      <td>0.0</td>\n",
       "      <td>0.0</td>\n",
       "      <td>0.0</td>\n",
       "      <td>0.0</td>\n",
       "      <td>0.0</td>\n",
       "      <td>0.0</td>\n",
       "      <td>1.0</td>\n",
       "    </tr>\n",
       "    <tr>\n",
       "      <th>3</th>\n",
       "      <td>3</td>\n",
       "      <td>0.0</td>\n",
       "      <td>0.0</td>\n",
       "      <td>0.0</td>\n",
       "      <td>0.0</td>\n",
       "      <td>0.0</td>\n",
       "      <td>0.0</td>\n",
       "      <td>0.0</td>\n",
       "      <td>0.0</td>\n",
       "      <td>0.0</td>\n",
       "      <td>...</td>\n",
       "      <td>0.0</td>\n",
       "      <td>0.0</td>\n",
       "      <td>0.0</td>\n",
       "      <td>0.0</td>\n",
       "      <td>0.0</td>\n",
       "      <td>0.0</td>\n",
       "      <td>0.0</td>\n",
       "      <td>0.0</td>\n",
       "      <td>0.0</td>\n",
       "      <td>1.0</td>\n",
       "    </tr>\n",
       "    <tr>\n",
       "      <th>4</th>\n",
       "      <td>4</td>\n",
       "      <td>0.0</td>\n",
       "      <td>0.0</td>\n",
       "      <td>0.0</td>\n",
       "      <td>0.0</td>\n",
       "      <td>0.0</td>\n",
       "      <td>0.0</td>\n",
       "      <td>0.0</td>\n",
       "      <td>0.0</td>\n",
       "      <td>0.0</td>\n",
       "      <td>...</td>\n",
       "      <td>0.0</td>\n",
       "      <td>0.0</td>\n",
       "      <td>0.0</td>\n",
       "      <td>0.0</td>\n",
       "      <td>0.0</td>\n",
       "      <td>0.0</td>\n",
       "      <td>0.0</td>\n",
       "      <td>0.0</td>\n",
       "      <td>0.0</td>\n",
       "      <td>1.0</td>\n",
       "    </tr>\n",
       "    <tr>\n",
       "      <th>...</th>\n",
       "      <td>...</td>\n",
       "      <td>...</td>\n",
       "      <td>...</td>\n",
       "      <td>...</td>\n",
       "      <td>...</td>\n",
       "      <td>...</td>\n",
       "      <td>...</td>\n",
       "      <td>...</td>\n",
       "      <td>...</td>\n",
       "      <td>...</td>\n",
       "      <td>...</td>\n",
       "      <td>...</td>\n",
       "      <td>...</td>\n",
       "      <td>...</td>\n",
       "      <td>...</td>\n",
       "      <td>...</td>\n",
       "      <td>...</td>\n",
       "      <td>...</td>\n",
       "      <td>...</td>\n",
       "      <td>...</td>\n",
       "      <td>...</td>\n",
       "    </tr>\n",
       "    <tr>\n",
       "      <th>52555</th>\n",
       "      <td>1090</td>\n",
       "      <td>1.0</td>\n",
       "      <td>1.0</td>\n",
       "      <td>1.0</td>\n",
       "      <td>1.0</td>\n",
       "      <td>1.0</td>\n",
       "      <td>1.0</td>\n",
       "      <td>1.0</td>\n",
       "      <td>1.0</td>\n",
       "      <td>1.0</td>\n",
       "      <td>...</td>\n",
       "      <td>0.0</td>\n",
       "      <td>0.0</td>\n",
       "      <td>0.0</td>\n",
       "      <td>0.0</td>\n",
       "      <td>0.0</td>\n",
       "      <td>0.0</td>\n",
       "      <td>0.0</td>\n",
       "      <td>0.0</td>\n",
       "      <td>0.0</td>\n",
       "      <td>0.0</td>\n",
       "    </tr>\n",
       "    <tr>\n",
       "      <th>52556</th>\n",
       "      <td>1091</td>\n",
       "      <td>1.0</td>\n",
       "      <td>1.0</td>\n",
       "      <td>1.0</td>\n",
       "      <td>2.0</td>\n",
       "      <td>2.0</td>\n",
       "      <td>2.0</td>\n",
       "      <td>2.0</td>\n",
       "      <td>2.0</td>\n",
       "      <td>2.0</td>\n",
       "      <td>...</td>\n",
       "      <td>0.0</td>\n",
       "      <td>0.0</td>\n",
       "      <td>0.0</td>\n",
       "      <td>0.0</td>\n",
       "      <td>0.0</td>\n",
       "      <td>0.0</td>\n",
       "      <td>0.0</td>\n",
       "      <td>0.0</td>\n",
       "      <td>0.0</td>\n",
       "      <td>0.0</td>\n",
       "    </tr>\n",
       "    <tr>\n",
       "      <th>52557</th>\n",
       "      <td>1092</td>\n",
       "      <td>0.0</td>\n",
       "      <td>0.0</td>\n",
       "      <td>0.0</td>\n",
       "      <td>0.0</td>\n",
       "      <td>0.0</td>\n",
       "      <td>0.0</td>\n",
       "      <td>0.0</td>\n",
       "      <td>0.0</td>\n",
       "      <td>0.0</td>\n",
       "      <td>...</td>\n",
       "      <td>0.0</td>\n",
       "      <td>0.0</td>\n",
       "      <td>0.0</td>\n",
       "      <td>0.0</td>\n",
       "      <td>0.0</td>\n",
       "      <td>0.0</td>\n",
       "      <td>0.0</td>\n",
       "      <td>0.0</td>\n",
       "      <td>0.0</td>\n",
       "      <td>0.0</td>\n",
       "    </tr>\n",
       "    <tr>\n",
       "      <th>52558</th>\n",
       "      <td>1093</td>\n",
       "      <td>0.0</td>\n",
       "      <td>0.0</td>\n",
       "      <td>0.0</td>\n",
       "      <td>0.0</td>\n",
       "      <td>0.0</td>\n",
       "      <td>0.0</td>\n",
       "      <td>0.0</td>\n",
       "      <td>0.0</td>\n",
       "      <td>1.0</td>\n",
       "      <td>...</td>\n",
       "      <td>0.0</td>\n",
       "      <td>0.0</td>\n",
       "      <td>0.0</td>\n",
       "      <td>0.0</td>\n",
       "      <td>0.0</td>\n",
       "      <td>0.0</td>\n",
       "      <td>0.0</td>\n",
       "      <td>0.0</td>\n",
       "      <td>0.0</td>\n",
       "      <td>0.0</td>\n",
       "    </tr>\n",
       "    <tr>\n",
       "      <th>52559</th>\n",
       "      <td>1094</td>\n",
       "      <td>0.0</td>\n",
       "      <td>0.0</td>\n",
       "      <td>0.0</td>\n",
       "      <td>0.0</td>\n",
       "      <td>0.0</td>\n",
       "      <td>0.0</td>\n",
       "      <td>0.0</td>\n",
       "      <td>0.0</td>\n",
       "      <td>0.0</td>\n",
       "      <td>...</td>\n",
       "      <td>0.0</td>\n",
       "      <td>0.0</td>\n",
       "      <td>0.0</td>\n",
       "      <td>0.0</td>\n",
       "      <td>0.0</td>\n",
       "      <td>0.0</td>\n",
       "      <td>0.0</td>\n",
       "      <td>0.0</td>\n",
       "      <td>0.0</td>\n",
       "      <td>0.0</td>\n",
       "    </tr>\n",
       "  </tbody>\n",
       "</table>\n",
       "<p>52560 rows × 574 columns</p>\n",
       "</div>"
      ],
      "text/plain": [
       "       Unnamed: 0  flu  swine  stomach  symptoms  virus  bug  strep  season  \\\n",
       "0               0  0.0    0.0      0.0       0.0    0.0  0.0    0.0     0.0   \n",
       "1               1  0.0    0.0      0.0       0.0    0.0  0.0    0.0     0.0   \n",
       "2               2  0.0    0.0      0.0       0.0    0.0  0.0    0.0     0.0   \n",
       "3               3  0.0    0.0      0.0       0.0    0.0  0.0    0.0     0.0   \n",
       "4               4  0.0    0.0      0.0       0.0    0.0  0.0    0.0     0.0   \n",
       "...           ...  ...    ...      ...       ...    ...  ...    ...     ...   \n",
       "52555        1090  1.0    1.0      1.0       1.0    1.0  1.0    1.0     1.0   \n",
       "52556        1091  1.0    1.0      1.0       2.0    2.0  2.0    2.0     2.0   \n",
       "52557        1092  0.0    0.0      0.0       0.0    0.0  0.0    0.0     0.0   \n",
       "52558        1093  0.0    0.0      0.0       0.0    0.0  0.0    0.0     0.0   \n",
       "52559        1094  0.0    0.0      0.0       0.0    0.0  0.0    0.0     0.0   \n",
       "\n",
       "       influenza  ...  south carolina  tennessee  texas  utah  vermont  \\\n",
       "0            0.0  ...             0.0        0.0    0.0   0.0      0.0   \n",
       "1            0.0  ...             0.0        0.0    0.0   0.0      0.0   \n",
       "2            0.0  ...             0.0        0.0    0.0   0.0      0.0   \n",
       "3            0.0  ...             0.0        0.0    0.0   0.0      0.0   \n",
       "4            0.0  ...             0.0        0.0    0.0   0.0      0.0   \n",
       "...          ...  ...             ...        ...    ...   ...      ...   \n",
       "52555        1.0  ...             0.0        0.0    0.0   0.0      0.0   \n",
       "52556        2.0  ...             0.0        0.0    0.0   0.0      0.0   \n",
       "52557        0.0  ...             0.0        0.0    0.0   0.0      0.0   \n",
       "52558        1.0  ...             0.0        0.0    0.0   0.0      0.0   \n",
       "52559        0.0  ...             0.0        0.0    0.0   0.0      0.0   \n",
       "\n",
       "       virginia  washington  west virginia  wisconsin  wyoming  \n",
       "0           0.0         0.0            0.0        0.0      1.0  \n",
       "1           0.0         0.0            0.0        0.0      1.0  \n",
       "2           0.0         0.0            0.0        0.0      1.0  \n",
       "3           0.0         0.0            0.0        0.0      1.0  \n",
       "4           0.0         0.0            0.0        0.0      1.0  \n",
       "...         ...         ...            ...        ...      ...  \n",
       "52555       0.0         0.0            0.0        0.0      0.0  \n",
       "52556       0.0         0.0            0.0        0.0      0.0  \n",
       "52557       0.0         0.0            0.0        0.0      0.0  \n",
       "52558       0.0         0.0            0.0        0.0      0.0  \n",
       "52559       0.0         0.0            0.0        0.0      0.0  \n",
       "\n",
       "[52560 rows x 574 columns]"
      ]
     },
     "execution_count": 36,
     "metadata": {},
     "output_type": "execute_result"
    }
   ],
   "source": [
    "X_train"
   ]
  },
  {
   "cell_type": "code",
   "execution_count": 37,
   "metadata": {},
   "outputs": [],
   "source": [
    "X = pd.concat([X_train, X_test], axis=0)\n",
    "y = pd.concat([y_train, y_test], axis=0)"
   ]
  },
  {
   "cell_type": "code",
   "execution_count": 38,
   "metadata": {},
   "outputs": [
    {
     "data": {
      "text/plain": [
       "0        0\n",
       "1        0\n",
       "2        0\n",
       "3        0\n",
       "4        0\n",
       "        ..\n",
       "52555    1\n",
       "52556    1\n",
       "52557    1\n",
       "52558    1\n",
       "52559    1\n",
       "Name: target, Length: 52560, dtype: int64"
      ]
     },
     "execution_count": 38,
     "metadata": {},
     "output_type": "execute_result"
    }
   ],
   "source": [
    "X.iloc[1000, : ]\n",
    "\n",
    "y_train"
   ]
  },
  {
   "cell_type": "code",
   "execution_count": 39,
   "metadata": {},
   "outputs": [],
   "source": [
    "\n",
    "adasyn = ADASYN(random_state=42)\n",
    "X_res, y_res = adasyn.fit_resample(X_train, y_train)\n",
    "\n"
   ]
  },
  {
   "cell_type": "code",
   "execution_count": 40,
   "metadata": {},
   "outputs": [],
   "source": [
    "X_train = X_res\n",
    "y_train = y_res"
   ]
  },
  {
   "cell_type": "code",
   "execution_count": 41,
   "metadata": {},
   "outputs": [
    {
     "data": {
      "text/plain": [
       "target\n",
       "0    49655\n",
       "1    49573\n",
       "Name: count, dtype: int64"
      ]
     },
     "execution_count": 41,
     "metadata": {},
     "output_type": "execute_result"
    }
   ],
   "source": [
    "y_train.value_counts()"
   ]
  },
  {
   "cell_type": "code",
   "execution_count": 42,
   "metadata": {},
   "outputs": [
    {
     "data": {
      "image/png": "[encoded data removed]",
      "text/plain": [
       "<Figure size 1000x800 with 1 Axes>"
      ]
     },
     "metadata": {},
     "output_type": "display_data"
    }
   ],
   "source": [
    "\n",
    "\n",
    "X = pd.concat([X_train, X_test], axis=0)\n",
    "\n",
    "y = pd.concat([y_train, y_test], axis=0)\n",
    "\n",
    "pca = PCA(n_components=2)\n",
    "X_pca = pca.fit_transform(X)\n",
    "\n",
    "df_pca = pd.DataFrame(data=X_pca, columns=['PC1', 'PC2'])\n",
    "df_pca['Target'] = y.values\n",
    "\n",
    "plt.figure(figsize=(10, 8))\n",
    "targets = df_pca['Target'].unique()\n",
    "colors = ['r', 'g', 'b', 'y', 'c', 'm', 'k', 'orange', 'purple', 'gray'][:len(targets)]\n",
    "for target, color in zip(targets, colors):\n",
    "    indices_to_keep = df_pca['Target'] == target\n",
    "    plt.scatter(df_pca.loc[indices_to_keep, 'PC1'], df_pca.loc[indices_to_keep, 'PC2'], c=color, s=50, label=target)\n",
    "plt.xlabel('Principal Component 1')\n",
    "plt.ylabel('Principal Component 2')\n",
    "plt.title('PCA Plot of Data in 2D')\n",
    "plt.legend()\n",
    "plt.show()\n"
   ]
  },
  {
   "cell_type": "code",
   "execution_count": 43,
   "metadata": {},
   "outputs": [
    {
     "data": {
      "image/png": "[encoded data removed]",
      "text/plain": [
       "<Figure size 1000x800 with 1 Axes>"
      ]
     },
     "metadata": {},
     "output_type": "display_data"
    }
   ],
   "source": [
    "\n",
    "\n",
    "X = pd.concat([X_train, X_test], axis=0)\n",
    "\n",
    "y = pd.concat([y_train, y_test], axis=0)\n",
    "\n",
    "pca = PCA(n_components=3)\n",
    "X_pca = pca.fit_transform(X)\n",
    "\n",
    "df_pca = pd.DataFrame(data=X_pca, columns=['PC1', 'PC2', 'PC3'])\n",
    "df_pca['Target'] = y.values\n",
    "\n",
    "fig = plt.figure(figsize=(10, 8))\n",
    "ax = fig.add_subplot(111, projection='3d')\n",
    "\n",
    "targets = df_pca['Target'].unique()\n",
    "colors = ['r', 'g', 'b', 'y', 'c', 'm', 'k', 'orange', 'purple', 'gray'][:len(targets)]\n",
    "for target, color in zip(targets, colors):\n",
    "    indices_to_keep = df_pca['Target'] == target\n",
    "    ax.scatter(df_pca.loc[indices_to_keep, 'PC1'], \n",
    "               df_pca.loc[indices_to_keep, 'PC2'], \n",
    "               df_pca.loc[indices_to_keep, 'PC3'], \n",
    "               c=color, \n",
    "               s=50, \n",
    "               label=target)\n",
    "\n",
    "ax.set_xlabel('Principal Component 1')\n",
    "ax.set_ylabel('Principal Component 2')\n",
    "ax.set_zlabel('Principal Component 3')\n",
    "ax.set_title('PCA Plot of Data in 3D')\n",
    "ax.legend()\n",
    "plt.show()\n"
   ]
  },
  {
   "cell_type": "markdown",
   "metadata": {},
   "source": [
    "<h1>Grid Search</h1>"
   ]
  },
  {
   "cell_type": "markdown",
   "metadata": {},
   "source": [
    "<h2>RF</h2>"
   ]
  },
  {
   "cell_type": "code",
   "execution_count": 22,
   "metadata": {},
   "outputs": [
    {
     "name": "stdout",
     "output_type": "stream",
     "text": [
      "Best Parameters: {'max_depth': None, 'min_samples_leaf': 4, 'min_samples_split': 2, 'n_estimators': 200}\n",
      "Best Score: 0.9292037045035132\n",
      "Test Accuracy: 0.9024914089347079\n"
     ]
    }
   ],
   "source": [
    "from sklearn.ensemble import RandomForestClassifier\n",
    "from sklearn.model_selection import GridSearchCV\n",
    "from joblib import parallel_backend\n",
    "\n",
    "# Define the parameter grid\n",
    "param_grid = {\n",
    "    'n_estimators': [100, 200, 300],X_test_self\n",
    "    'max_depth': [None, 5, 10],\n",
    "    'min_samples_split': [2, 5, 10],\n",
    "    'min_samples_leaf': [1, 2, 4]\n",
    "}\n",
    "\n",
    "# Create the Random Forest classifier\n",
    "rf = RandomForestClassifier()\n",
    "\n",
    "# Create the GridSearchCV object\n",
    "grid_search = GridSearchCV(estimator=rf, param_grid=param_grid, cv=5, n_jobs=-1,)\n",
    "\n",
    "# Fit the data to perform grid search with parallelization\n",
    "with parallel_backend('loky'):\n",
    "    grid_search.fit(X_train, y_train)\n",
    "\n",
    "# Get the best parameters and best score\n",
    "best_params = grid_search.best_params_\n",
    "best_score = grid_search.best_score_\n",
    "\n",
    "# Train the model with the best parameters\n",
    "best_rf = RandomForestClassifier(**best_params)\n",
    "best_rf.fit(X_train, y_train)\n",
    "\n",
    "# Evaluate the model\n",
    "accuracy = best_rf.score(X_test, y_test)\n",
    "\n",
    "print(f\"Best Parameters: {best_params}\")\n",
    "print(f\"Best Score: {best_score}\")\n",
    "print(f\"Test Accuracy: {accuracy}\")\n"
   ]
  },
  {
   "cell_type": "markdown",
   "metadata": {},
   "source": [
    "<h2>nb</h2>"
   ]
  },
  {
   "cell_type": "code",
   "execution_count": 25,
   "metadata": {},
   "outputs": [
    {
     "name": "stdout",
     "output_type": "stream",
     "text": [
      "Best Parameters: {'var_smoothing': 1e-07}\n",
      "Best Cross-Validation Score: 0.5795336649520532\n",
      "Test Set Accuracy: 0.8661941580756014\n"
     ]
    }
   ],
   "source": [
    "from sklearn.naive_bayes import GaussianNB\n",
    "from sklearn.model_selection import GridSearchCV\n",
    "\n",
    "# Define the parameter grid\n",
    "param_grid = {\n",
    "    'var_smoothing': [1e-9, 1e-8, 1e-7, 1e-6, 1e-5]\n",
    "}\n",
    "\n",
    "# Create the Gaussian Naive Bayes classifier\n",
    "gnb = GaussianNB()\n",
    "\n",
    "# Create the GridSearchCV object\n",
    "grid_search = GridSearchCV(estimator=gnb, param_grid=param_grid, cv=5)\n",
    "\n",
    "# Fit the data to perform grid search\n",
    "grid_search.fit(X_train, y_train)\n",
    "\n",
    "# Get the best parameters and best score\n",
    "best_params = grid_search.best_params_\n",
    "best_score = grid_search.best_score_\n",
    "\n",
    "# Train the model with the best parameters\n",
    "best_gnb = GaussianNB(**best_params)\n",
    "best_gnb.fit(X_train, y_train)\n",
    "\n",
    "# Evaluate the model\n",
    "accuracy = best_gnb.score(X_test, y_test)\n",
    "\n",
    "print(f\"Best Parameters: {best_params}\")\n",
    "print(f\"Best Cross-Validation Score: {best_score}\")\n",
    "print(f\"Test Set Accuracy: {accuracy}\")\n"
   ]
  },
  {
   "cell_type": "markdown",
   "metadata": {},
   "source": [
    "<h1> Random Forest Classifier  </h1>"
   ]
  },
  {
   "cell_type": "code",
   "execution_count": 44,
   "metadata": {},
   "outputs": [
    {
     "name": "stdout",
     "output_type": "stream",
     "text": [
      "Random Forest Model:\n",
      "Train Accuracy: 0.9871104930060064\n",
      "Test Accuracy: 0.9024914089347079\n",
      "Confusion Matrix:\n",
      " [[20949    49]\n",
      " [ 2221    61]]\n",
      "Precision: 0.8698742914149212\n",
      "Recall: 0.9024914089347079\n",
      "F1 Score: 0.8606187392192547\n",
      "Classification Report:\n",
      "               precision    recall  f1-score   support\n",
      "\n",
      "           0       0.90      1.00      0.95     20998\n",
      "           1       0.55      0.03      0.05      2282\n",
      "\n",
      "    accuracy                           0.90     23280\n",
      "   macro avg       0.73      0.51      0.50     23280\n",
      "weighted avg       0.87      0.90      0.86     23280\n",
      "\n"
     ]
    }
   ],
   "source": [
    "\n",
    "\n",
    "rf = RandomForestClassifier(min_samples_leaf=4, min_samples_split=2, n_estimators=200)\n",
    "\n",
    "rf.fit(X_train, y_train)\n",
    "\n",
    "train_predictions_rf = rf.predict(X_train)\n",
    "test_predictions_rf = rf.predict(X_test)\n",
    "\n",
    "train_accuracy_rf = accuracy_score(y_train, train_predictions_rf)\n",
    "test_accuracy_rf = accuracy_score(y_test, test_predictions_rf)\n",
    "\n",
    "confusion_matrix_rf = confusion_matrix(y_test, test_predictions_rf)\n",
    "\n",
    "precision_rf = precision_score(y_test, test_predictions_rf, average='weighted')\n",
    "recall_rf = recall_score(y_test, test_predictions_rf, average='weighted')\n",
    "f1_rf = f1_score(y_test, test_predictions_rf, average='weighted')\n",
    "\n",
    "classification_report_rf = classification_report(y_test, test_predictions_rf)\n",
    "\n",
    "\n",
    "print(\"Random Forest Model:\")\n",
    "print(\"Train Accuracy:\", train_accuracy_rf)\n",
    "print(\"Test Accuracy:\", test_accuracy_rf)\n",
    "print(\"Confusion Matrix:\\n\", confusion_matrix_rf)\n",
    "print(\"Precision:\", precision_rf)\n",
    "print(\"Recall:\", recall_rf)\n",
    "print(\"F1 Score:\", f1_rf)\n",
    "print(\"Classification Report:\\n\", classification_report_rf)\n"
   ]
  },
  {
   "cell_type": "markdown",
   "metadata": {},
   "source": [
    "<h1>Naive Bayes</h1>"
   ]
  },
  {
   "cell_type": "code",
   "execution_count": 45,
   "metadata": {},
   "outputs": [
    {
     "name": "stdout",
     "output_type": "stream",
     "text": [
      "\n",
      "Naive Bayes Model:\n",
      "Train Accuracy: 0.609968960374088\n",
      "Test Accuracy: 0.8631872852233677\n",
      "Confusion Matrix:\n",
      " [[19303  1695]\n",
      " [ 1490   792]]\n",
      "Precision: 0.8685578387464596\n",
      "Recall: 0.8631872852233677\n",
      "F1 Score: 0.8657922395722166\n",
      "Classification Report:\n",
      "               precision    recall  f1-score   support\n",
      "\n",
      "           0       0.93      0.92      0.92     20998\n",
      "           1       0.32      0.35      0.33      2282\n",
      "\n",
      "    accuracy                           0.86     23280\n",
      "   macro avg       0.62      0.63      0.63     23280\n",
      "weighted avg       0.87      0.86      0.87     23280\n",
      "\n"
     ]
    }
   ],
   "source": [
    "nb = GaussianNB()\n",
    "\n",
    "nb.fit(X_train, y_train)\n",
    "\n",
    "train_predictions_nb = nb.predict(X_train)\n",
    "test_predictions_nb = nb.predict(X_test)\n",
    "\n",
    "train_accuracy_nb = accuracy_score(y_train, train_predictions_nb)\n",
    "test_accuracy_nb = accuracy_score(y_test, test_predictions_nb)\n",
    "\n",
    "confusion_matrix_nb = confusion_matrix(y_test, test_predictions_nb)\n",
    "\n",
    "precision_nb = precision_score(y_test, test_predictions_nb, average='weighted')\n",
    "recall_nb = recall_score(y_test, test_predictions_nb, average='weighted')\n",
    "f1_nb = f1_score(y_test, test_predictions_nb, average='weighted')\n",
    "\n",
    "classification_report_nb = classification_report(y_test, test_predictions_nb)\n",
    "\n",
    "\n",
    "print(\"\\nNaive Bayes Model:\")\n",
    "print(\"Train Accuracy:\", train_accuracy_nb)\n",
    "print(\"Test Accuracy:\", test_accuracy_nb)\n",
    "print(\"Confusion Matrix:\\n\", confusion_matrix_nb)\n",
    "print(\"Precision:\", precision_nb)\n",
    "print(\"Recall:\", recall_nb)\n",
    "print(\"F1 Score:\", f1_nb)\n",
    "print(\"Classification Report:\\n\", classification_report_nb)\n"
   ]
  },
  {
   "cell_type": "code",
   "execution_count": 46,
   "metadata": {},
   "outputs": [
    {
     "data": {
      "image/png": "[encoded data removed]",
      "text/plain": [
       "<Figure size 1000x600 with 1 Axes>"
      ]
     },
     "metadata": {},
     "output_type": "display_data"
    }
   ],
   "source": [
    "\n",
    "\n",
    "pca = PCA(n_components=10)\n",
    "\n",
    "pca.fit(X_train)\n",
    "\n",
    "cumulative_variance_ratio = np.cumsum(pca.explained_variance_ratio_)\n",
    "\n",
    "plt.figure(figsize=(10, 6))\n",
    "plt.plot(range(1, len(cumulative_variance_ratio) + 1), cumulative_variance_ratio, marker='o', linestyle='--')\n",
    "plt.xlabel('Number of Components')\n",
    "plt.ylabel('Cumulative Explained Variance Ratio')\n",
    "plt.title('Cumulative Explained Variance Ratio by Number of Components')\n",
    "plt.grid(True)\n",
    "plt.show()\n"
   ]
  },
  {
   "cell_type": "markdown",
   "metadata": {},
   "source": [
    "<h1>PCA (n_components = 3)</h1> "
   ]
  },
  {
   "cell_type": "code",
   "execution_count": 47,
   "metadata": {},
   "outputs": [],
   "source": [
    "\n",
    "pca = PCA(n_components=3)\n",
    "\n",
    "pca.fit(X_train)\n",
    "\n",
    "X_train_pca = pca.transform(X_train)\n",
    "X_test_pca = pca.transform(X_test)\n"
   ]
  },
  {
   "cell_type": "markdown",
   "metadata": {},
   "source": [
    "<h2>RF </h2>"
   ]
  },
  {
   "cell_type": "code",
   "execution_count": 48,
   "metadata": {},
   "outputs": [
    {
     "name": "stdout",
     "output_type": "stream",
     "text": [
      "Random Forest Model:\n",
      "Train Accuracy: 0.9686580400693353\n",
      "Test Accuracy: 0.828651202749141\n",
      "Confusion Matrix:\n",
      " [[18878  2120]\n",
      " [ 1869   413]]\n",
      "Precision: 0.8367037627221372\n",
      "Recall: 0.828651202749141\n",
      "F1 Score: 0.8326021691546066\n",
      "Classification Report:\n",
      "               precision    recall  f1-score   support\n",
      "\n",
      "           0       0.91      0.90      0.90     20998\n",
      "           1       0.16      0.18      0.17      2282\n",
      "\n",
      "    accuracy                           0.83     23280\n",
      "   macro avg       0.54      0.54      0.54     23280\n",
      "weighted avg       0.84      0.83      0.83     23280\n",
      "\n"
     ]
    }
   ],
   "source": [
    "\n",
    "rf = RandomForestClassifier(min_samples_leaf=4, min_samples_split=2, n_estimators=200)\n",
    "\n",
    "rf.fit(X_train_pca, y_train)\n",
    "\n",
    "train_predictions_rf = rf.predict(X_train_pca)\n",
    "test_predictions_rf = rf.predict(X_test_pca)\n",
    "\n",
    "train_accuracy_rf = accuracy_score(y_train, train_predictions_rf)\n",
    "test_accuracy_rf = accuracy_score(y_test, test_predictions_rf)\n",
    "\n",
    "confusion_matrix_rf = confusion_matrix(y_test, test_predictions_rf)\n",
    "\n",
    "precision_rf = precision_score(y_test, test_predictions_rf, average='weighted')\n",
    "recall_rf = recall_score(y_test, test_predictions_rf, average='weighted')\n",
    "f1_rf = f1_score(y_test, test_predictions_rf, average='weighted')\n",
    "\n",
    "classification_report_rf = classification_report(y_test, test_predictions_rf)\n",
    "\n",
    "\n",
    "print(\"Random Forest Model:\")\n",
    "print(\"Train Accuracy:\", train_accuracy_rf)\n",
    "print(\"Test Accuracy:\", test_accuracy_rf)\n",
    "print(\"Confusion Matrix:\\n\", confusion_matrix_rf)\n",
    "print(\"Precision:\", precision_rf)\n",
    "print(\"Recall:\", recall_rf)\n",
    "print(\"F1 Score:\", f1_rf)\n",
    "print(\"Classification Report:\\n\", classification_report_rf)\n"
   ]
  },
  {
   "cell_type": "markdown",
   "metadata": {},
   "source": [
    "<h1> Gaussian NB </h1>"
   ]
  },
  {
   "cell_type": "code",
   "execution_count": 49,
   "metadata": {},
   "outputs": [
    {
     "name": "stdout",
     "output_type": "stream",
     "text": [
      "\n",
      "Naive Bayes Model:\n",
      "Train Accuracy: 0.5756842826621518\n",
      "Test Accuracy: 0.8694158075601375\n",
      "Confusion Matrix:\n",
      " [[19918  1080]\n",
      " [ 1960   322]]\n",
      "Precision: 0.8436833529921659\n",
      "Recall: 0.8694158075601375\n",
      "F1 Score: 0.8551595075273042\n",
      "Classification Report:\n",
      "               precision    recall  f1-score   support\n",
      "\n",
      "           0       0.91      0.95      0.93     20998\n",
      "           1       0.23      0.14      0.17      2282\n",
      "\n",
      "    accuracy                           0.87     23280\n",
      "   macro avg       0.57      0.54      0.55     23280\n",
      "weighted avg       0.84      0.87      0.86     23280\n",
      "\n"
     ]
    }
   ],
   "source": [
    "nb = GaussianNB(var_smoothing=1e-07)\n",
    "\n",
    "nb.fit(X_train_pca, y_train)\n",
    "\n",
    "train_predictions_nb = nb.predict(X_train_pca)\n",
    "test_predictions_nb = nb.predict(X_test_pca)\n",
    "\n",
    "train_accuracy_nb = accuracy_score(y_train, train_predictions_nb)\n",
    "test_accuracy_nb = accuracy_score(y_test, test_predictions_nb)\n",
    "\n",
    "confusion_matrix_nb = confusion_matrix(y_test, test_predictions_nb)\n",
    "\n",
    "precision_nb = precision_score(y_test, test_predictions_nb, average='weighted')\n",
    "recall_nb = recall_score(y_test, test_predictions_nb, average='weighted')\n",
    "f1_nb = f1_score(y_test, test_predictions_nb, average='weighted')\n",
    "\n",
    "classification_report_nb = classification_report(y_test, test_predictions_nb)\n",
    "\n",
    "\n",
    "print(\"\\nNaive Bayes Model:\")\n",
    "print(\"Train Accuracy:\", train_accuracy_nb)\n",
    "print(\"Test Accuracy:\", test_accuracy_nb)\n",
    "print(\"Confusion Matrix:\\n\", confusion_matrix_nb)\n",
    "print(\"Precision:\", precision_nb)\n",
    "print(\"Recall:\", recall_nb)\n",
    "print(\"F1 Score:\", f1_nb)\n",
    "print(\"Classification Report:\\n\", classification_report_nb)\n"
   ]
  },
  {
   "cell_type": "markdown",
   "metadata": {},
   "source": [
    "<h1>PCA (n_components = 2)</h1> "
   ]
  },
  {
   "cell_type": "code",
   "execution_count": 50,
   "metadata": {},
   "outputs": [],
   "source": [
    "\n",
    "pca = PCA(n_components=2)\n",
    "\n",
    "pca.fit(X_train)\n",
    "\n",
    "X_train_pca = pca.transform(X_train)\n",
    "X_test_pca = pca.transform(X_test)\n"
   ]
  },
  {
   "cell_type": "code",
   "execution_count": 51,
   "metadata": {},
   "outputs": [
    {
     "data": {
      "text/plain": [
       "array([[-549.48081643,  -17.9196909 ],\n",
       "       [-548.52438256,  -19.48323894],\n",
       "       [-547.52474651,  -19.51015375],\n",
       "       ...,\n",
       "       [ -67.69948473,  -32.42926154],\n",
       "       [ -66.69984868,  -32.45617634],\n",
       "       [ -65.70021262,  -32.48309115]])"
      ]
     },
     "execution_count": 51,
     "metadata": {},
     "output_type": "execute_result"
    }
   ],
   "source": [
    "X_test_pca\n"
   ]
  },
  {
   "cell_type": "markdown",
   "metadata": {},
   "source": [
    "<h2>RF</h2>"
   ]
  },
  {
   "cell_type": "code",
   "execution_count": 52,
   "metadata": {},
   "outputs": [
    {
     "name": "stdout",
     "output_type": "stream",
     "text": [
      "Random Forest Model:\n",
      "Train Accuracy: 0.9491272624662394\n",
      "Test Accuracy: 0.8118127147766323\n",
      "Confusion Matrix:\n",
      " [[18364  2634]\n",
      " [ 1747   535]]\n",
      "Precision: 0.840171916276214\n",
      "Recall: 0.8118127147766323\n",
      "F1 Score: 0.8250936233664576\n",
      "Classification Report:\n",
      "               precision    recall  f1-score   support\n",
      "\n",
      "           0       0.91      0.87      0.89     20998\n",
      "           1       0.17      0.23      0.20      2282\n",
      "\n",
      "    accuracy                           0.81     23280\n",
      "   macro avg       0.54      0.55      0.54     23280\n",
      "weighted avg       0.84      0.81      0.83     23280\n",
      "\n"
     ]
    }
   ],
   "source": [
    "\n",
    "rf = RandomForestClassifier(min_samples_leaf=4, min_samples_split=2, n_estimators=200)\n",
    "\n",
    "rf.fit(X_train_pca, y_train)\n",
    "\n",
    "train_predictions_rf = rf.predict(X_train_pca)\n",
    "test_predictions_rf = rf.predict(X_test_pca)\n",
    "\n",
    "train_accuracy_rf = accuracy_score(y_train, train_predictions_rf)\n",
    "test_accuracy_rf = accuracy_score(y_test, test_predictions_rf)\n",
    "\n",
    "confusion_matrix_rf = confusion_matrix(y_test, test_predictions_rf)\n",
    "\n",
    "precision_rf = precision_score(y_test, test_predictions_rf, average='weighted')\n",
    "recall_rf = recall_score(y_test, test_predictions_rf, average='weighted')\n",
    "f1_rf = f1_score(y_test, test_predictions_rf, average='weighted')\n",
    "\n",
    "classification_report_rf = classification_report(y_test, test_predictions_rf)\n",
    "\n",
    "\n",
    "print(\"Random Forest Model:\")\n",
    "print(\"Train Accuracy:\", train_accuracy_rf)\n",
    "print(\"Test Accuracy:\", test_accuracy_rf)\n",
    "print(\"Confusion Matrix:\\n\", confusion_matrix_rf)\n",
    "print(\"Precision:\", precision_rf)\n",
    "print(\"Recall:\", recall_rf)\n",
    "print(\"F1 Score:\", f1_rf)\n",
    "print(\"Classification Report:\\n\", classification_report_rf)\n"
   ]
  },
  {
   "cell_type": "markdown",
   "metadata": {},
   "source": [
    "<h2>G nb</h2>"
   ]
  },
  {
   "cell_type": "code",
   "execution_count": 53,
   "metadata": {},
   "outputs": [
    {
     "name": "stdout",
     "output_type": "stream",
     "text": [
      "\n",
      "Naive Bayes Model:\n",
      "Train Accuracy: 0.5625730640545007\n",
      "Test Accuracy: 0.8756443298969072\n",
      "Confusion Matrix:\n",
      " [[20089   909]\n",
      " [ 1986   296]]\n",
      "Precision: 0.84490769266246\n",
      "Recall: 0.8756443298969072\n",
      "F1 Score: 0.857994689893366\n",
      "Classification Report:\n",
      "               precision    recall  f1-score   support\n",
      "\n",
      "           0       0.91      0.96      0.93     20998\n",
      "           1       0.25      0.13      0.17      2282\n",
      "\n",
      "    accuracy                           0.88     23280\n",
      "   macro avg       0.58      0.54      0.55     23280\n",
      "weighted avg       0.84      0.88      0.86     23280\n",
      "\n"
     ]
    }
   ],
   "source": [
    "nb = GaussianNB(var_smoothing=1e-07)\n",
    "\n",
    "nb.fit(X_train_pca, y_train)\n",
    "\n",
    "train_predictions_nb = nb.predict(X_train_pca)\n",
    "test_predictions_nb = nb.predict(X_test_pca)\n",
    "\n",
    "train_accuracy_nb = accuracy_score(y_train, train_predictions_nb)\n",
    "test_accuracy_nb = accuracy_score(y_test, test_predictions_nb)\n",
    "\n",
    "confusion_matrix_nb = confusion_matrix(y_test, test_predictions_nb)\n",
    "\n",
    "precision_nb = precision_score(y_test, test_predictions_nb, average='weighted')\n",
    "recall_nb = recall_score(y_test, test_predictions_nb, average='weighted')\n",
    "f1_nb = f1_score(y_test, test_predictions_nb, average='weighted')\n",
    "\n",
    "classification_report_nb = classification_report(y_test, test_predictions_nb)\n",
    "\n",
    "\n",
    "print(\"\\nNaive Bayes Model:\")\n",
    "print(\"Train Accuracy:\", train_accuracy_nb)\n",
    "print(\"Test Accuracy:\", test_accuracy_nb)\n",
    "print(\"Confusion Matrix:\\n\", confusion_matrix_nb)\n",
    "print(\"Precision:\", precision_nb)\n",
    "print(\"Recall:\", recall_nb)\n",
    "print(\"F1 Score:\", f1_nb)\n",
    "print(\"Classification Report:\\n\", classification_report_nb)\n"
   ]
  },
  {
   "cell_type": "markdown",
   "metadata": {},
   "source": [
    "<h1>PCA (n_components = 1)</h1> "
   ]
  },
  {
   "cell_type": "code",
   "execution_count": 54,
   "metadata": {},
   "outputs": [],
   "source": [
    "\n",
    "pca = PCA(n_components=1)\n",
    "\n",
    "pca.fit(X_train)\n",
    "\n",
    "X_train_pca = pca.transform(X_train)\n",
    "X_test_pca = pca.transform(X_test)\n"
   ]
  },
  {
   "cell_type": "markdown",
   "metadata": {},
   "source": [
    "<h2>RF<h2>"
   ]
  },
  {
   "cell_type": "code",
   "execution_count": 55,
   "metadata": {},
   "outputs": [
    {
     "name": "stdout",
     "output_type": "stream",
     "text": [
      "Random Forest Model:\n",
      "Train Accuracy: 0.9330430926754545\n",
      "Test Accuracy: 0.7991838487972509\n",
      "Confusion Matrix:\n",
      " [[18002  2996]\n",
      " [ 1679   603]]\n",
      "Precision: 0.841451331890412\n",
      "Recall: 0.7991838487972509\n",
      "F1 Score: 0.8184186301825085\n",
      "Classification Report:\n",
      "               precision    recall  f1-score   support\n",
      "\n",
      "           0       0.91      0.86      0.89     20998\n",
      "           1       0.17      0.26      0.21      2282\n",
      "\n",
      "    accuracy                           0.80     23280\n",
      "   macro avg       0.54      0.56      0.55     23280\n",
      "weighted avg       0.84      0.80      0.82     23280\n",
      "\n"
     ]
    }
   ],
   "source": [
    "\n",
    "rf = RandomForestClassifier(min_samples_leaf=4, min_samples_split=2, n_estimators=200)\n",
    "\n",
    "rf.fit(X_train_pca, y_train)\n",
    "\n",
    "train_predictions_rf = rf.predict(X_train_pca)\n",
    "test_predictions_rf = rf.predict(X_test_pca)\n",
    "\n",
    "train_accuracy_rf = accuracy_score(y_train, train_predictions_rf)\n",
    "test_accuracy_rf = accuracy_score(y_test, test_predictions_rf)\n",
    "\n",
    "confusion_matrix_rf = confusion_matrix(y_test, test_predictions_rf)\n",
    "\n",
    "precision_rf = precision_score(y_test, test_predictions_rf, average='weighted')\n",
    "recall_rf = recall_score(y_test, test_predictions_rf, average='weighted')\n",
    "f1_rf = f1_score(y_test, test_predictions_rf, average='weighted')\n",
    "\n",
    "classification_report_rf = classification_report(y_test, test_predictions_rf)\n",
    "\n",
    "\n",
    "print(\"Random Forest Model:\")\n",
    "print(\"Train Accuracy:\", train_accuracy_rf)\n",
    "print(\"Test Accuracy:\", test_accuracy_rf)\n",
    "print(\"Confusion Matrix:\\n\", confusion_matrix_rf)\n",
    "print(\"Precision:\", precision_rf)\n",
    "print(\"Recall:\", recall_rf)\n",
    "print(\"F1 Score:\", f1_rf)\n",
    "print(\"Classification Report:\\n\", classification_report_rf)\n"
   ]
  },
  {
   "cell_type": "markdown",
   "metadata": {},
   "source": [
    "<h2>G nb<h2>"
   ]
  },
  {
   "cell_type": "code",
   "execution_count": 56,
   "metadata": {},
   "outputs": [
    {
     "name": "stdout",
     "output_type": "stream",
     "text": [
      "\n",
      "Naive Bayes Model:\n",
      "Train Accuracy: 0.554742612972145\n",
      "Test Accuracy: 0.5683419243986254\n",
      "Confusion Matrix:\n",
      " [[12748  8250]\n",
      " [ 1799   483]]\n",
      "Precision: 0.7958517453531677\n",
      "Recall: 0.5683419243986253\n",
      "F1 Score: 0.655573043598579\n",
      "Classification Report:\n",
      "               precision    recall  f1-score   support\n",
      "\n",
      "           0       0.88      0.61      0.72     20998\n",
      "           1       0.06      0.21      0.09      2282\n",
      "\n",
      "    accuracy                           0.57     23280\n",
      "   macro avg       0.47      0.41      0.40     23280\n",
      "weighted avg       0.80      0.57      0.66     23280\n",
      "\n"
     ]
    }
   ],
   "source": [
    "nb = GaussianNB(var_smoothing=1e-07)\n",
    "\n",
    "nb.fit(X_train_pca, y_train)\n",
    "\n",
    "train_predictions_nb = nb.predict(X_train_pca)\n",
    "test_predictions_nb = nb.predict(X_test_pca)\n",
    "\n",
    "train_accuracy_nb = accuracy_score(y_train, train_predictions_nb)\n",
    "test_accuracy_nb = accuracy_score(y_test, test_predictions_nb)\n",
    "\n",
    "confusion_matrix_nb = confusion_matrix(y_test, test_predictions_nb)\n",
    "\n",
    "precision_nb = precision_score(y_test, test_predictions_nb, average='weighted')\n",
    "recall_nb = recall_score(y_test, test_predictions_nb, average='weighted')\n",
    "f1_nb = f1_score(y_test, test_predictions_nb, average='weighted')\n",
    "\n",
    "classification_report_nb = classification_report(y_test, test_predictions_nb)\n",
    "\n",
    "\n",
    "print(\"\\nNaive Bayes Model:\")\n",
    "print(\"Train Accuracy:\", train_accuracy_nb)\n",
    "print(\"Test Accuracy:\", test_accuracy_nb)\n",
    "print(\"Confusion Matrix:\\n\", confusion_matrix_nb)\n",
    "print(\"Precision:\", precision_nb)\n",
    "print(\"Recall:\", recall_nb)\n",
    "print(\"F1 Score:\", f1_nb)\n",
    "print(\"Classification Report:\\n\", classification_report_nb)\n"
   ]
  },
  {
   "cell_type": "markdown",
   "metadata": {},
   "source": [
    "<nb>\n",
    "<h1 style=\"color:green\">  \n",
    "\n",
    " Artifical neural networks \n",
    " \n",
    " \n",
    " \n",
    " \n",
    " </h1>"
   ]
  },
  {
   "cell_type": "code",
   "execution_count": 126,
   "metadata": {},
   "outputs": [],
   "source": [
    "from tensorflow.keras.models import Sequential\n",
    "from tensorflow.keras.layers import Dense\n"
   ]
  },
  {
   "cell_type": "code",
   "execution_count": 127,
   "metadata": {},
   "outputs": [
    {
     "data": {
      "text/html": [
       "<div>\n",
       "<style scoped>\n",
       "    .dataframe tbody tr th:only-of-type {\n",
       "        vertical-align: middle;\n",
       "    }\n",
       "\n",
       "    .dataframe tbody tr th {\n",
       "        vertical-align: top;\n",
       "    }\n",
       "\n",
       "    .dataframe thead th {\n",
       "        text-align: right;\n",
       "    }\n",
       "</style>\n",
       "<table border=\"1\" class=\"dataframe\">\n",
       "  <thead>\n",
       "    <tr style=\"text-align: right;\">\n",
       "      <th></th>\n",
       "      <th>0</th>\n",
       "      <th>1</th>\n",
       "      <th>2</th>\n",
       "      <th>3</th>\n",
       "      <th>4</th>\n",
       "      <th>5</th>\n",
       "      <th>6</th>\n",
       "      <th>7</th>\n",
       "      <th>8</th>\n",
       "      <th>9</th>\n",
       "      <th>...</th>\n",
       "      <th>564</th>\n",
       "      <th>565</th>\n",
       "      <th>566</th>\n",
       "      <th>567</th>\n",
       "      <th>568</th>\n",
       "      <th>569</th>\n",
       "      <th>570</th>\n",
       "      <th>571</th>\n",
       "      <th>572</th>\n",
       "      <th>573</th>\n",
       "    </tr>\n",
       "  </thead>\n",
       "  <tbody>\n",
       "    <tr>\n",
       "      <th>0</th>\n",
       "      <td>-1.576942</td>\n",
       "      <td>-0.431306</td>\n",
       "      <td>-0.519842</td>\n",
       "      <td>-0.525473</td>\n",
       "      <td>-0.522871</td>\n",
       "      <td>-0.526244</td>\n",
       "      <td>-0.523055</td>\n",
       "      <td>-0.528317</td>\n",
       "      <td>-0.533510</td>\n",
       "      <td>-0.535567</td>\n",
       "      <td>...</td>\n",
       "      <td>-0.164381</td>\n",
       "      <td>-0.17095</td>\n",
       "      <td>-0.191654</td>\n",
       "      <td>-0.173213</td>\n",
       "      <td>-0.130686</td>\n",
       "      <td>-0.172882</td>\n",
       "      <td>-0.116418</td>\n",
       "      <td>-0.147477</td>\n",
       "      <td>-0.111512</td>\n",
       "      <td>7.437182</td>\n",
       "    </tr>\n",
       "    <tr>\n",
       "      <th>1</th>\n",
       "      <td>-1.574069</td>\n",
       "      <td>-0.431306</td>\n",
       "      <td>-0.519842</td>\n",
       "      <td>-0.525473</td>\n",
       "      <td>-0.522871</td>\n",
       "      <td>-0.526244</td>\n",
       "      <td>-0.523055</td>\n",
       "      <td>-0.528317</td>\n",
       "      <td>-0.533510</td>\n",
       "      <td>-0.535567</td>\n",
       "      <td>...</td>\n",
       "      <td>-0.164381</td>\n",
       "      <td>-0.17095</td>\n",
       "      <td>-0.191654</td>\n",
       "      <td>-0.173213</td>\n",
       "      <td>-0.130686</td>\n",
       "      <td>-0.172882</td>\n",
       "      <td>-0.116418</td>\n",
       "      <td>-0.147477</td>\n",
       "      <td>-0.111512</td>\n",
       "      <td>7.437182</td>\n",
       "    </tr>\n",
       "    <tr>\n",
       "      <th>2</th>\n",
       "      <td>-1.571196</td>\n",
       "      <td>-0.431306</td>\n",
       "      <td>-0.519842</td>\n",
       "      <td>-0.525473</td>\n",
       "      <td>-0.522871</td>\n",
       "      <td>-0.526244</td>\n",
       "      <td>-0.523055</td>\n",
       "      <td>-0.528317</td>\n",
       "      <td>-0.533510</td>\n",
       "      <td>-0.535567</td>\n",
       "      <td>...</td>\n",
       "      <td>-0.164381</td>\n",
       "      <td>-0.17095</td>\n",
       "      <td>-0.191654</td>\n",
       "      <td>-0.173213</td>\n",
       "      <td>-0.130686</td>\n",
       "      <td>-0.172882</td>\n",
       "      <td>-0.116418</td>\n",
       "      <td>-0.147477</td>\n",
       "      <td>-0.111512</td>\n",
       "      <td>7.437182</td>\n",
       "    </tr>\n",
       "    <tr>\n",
       "      <th>3</th>\n",
       "      <td>-1.568322</td>\n",
       "      <td>-0.431306</td>\n",
       "      <td>-0.519842</td>\n",
       "      <td>-0.525473</td>\n",
       "      <td>-0.522871</td>\n",
       "      <td>-0.526244</td>\n",
       "      <td>-0.523055</td>\n",
       "      <td>-0.528317</td>\n",
       "      <td>-0.533510</td>\n",
       "      <td>-0.535567</td>\n",
       "      <td>...</td>\n",
       "      <td>-0.164381</td>\n",
       "      <td>-0.17095</td>\n",
       "      <td>-0.191654</td>\n",
       "      <td>-0.173213</td>\n",
       "      <td>-0.130686</td>\n",
       "      <td>-0.172882</td>\n",
       "      <td>-0.116418</td>\n",
       "      <td>-0.147477</td>\n",
       "      <td>-0.111512</td>\n",
       "      <td>7.437182</td>\n",
       "    </tr>\n",
       "    <tr>\n",
       "      <th>4</th>\n",
       "      <td>-1.565449</td>\n",
       "      <td>-0.431306</td>\n",
       "      <td>-0.519842</td>\n",
       "      <td>-0.525473</td>\n",
       "      <td>-0.522871</td>\n",
       "      <td>-0.526244</td>\n",
       "      <td>-0.523055</td>\n",
       "      <td>-0.528317</td>\n",
       "      <td>-0.533510</td>\n",
       "      <td>-0.535567</td>\n",
       "      <td>...</td>\n",
       "      <td>-0.164381</td>\n",
       "      <td>-0.17095</td>\n",
       "      <td>-0.191654</td>\n",
       "      <td>-0.173213</td>\n",
       "      <td>-0.130686</td>\n",
       "      <td>-0.172882</td>\n",
       "      <td>-0.116418</td>\n",
       "      <td>-0.147477</td>\n",
       "      <td>-0.111512</td>\n",
       "      <td>7.437182</td>\n",
       "    </tr>\n",
       "    <tr>\n",
       "      <th>...</th>\n",
       "      <td>...</td>\n",
       "      <td>...</td>\n",
       "      <td>...</td>\n",
       "      <td>...</td>\n",
       "      <td>...</td>\n",
       "      <td>...</td>\n",
       "      <td>...</td>\n",
       "      <td>...</td>\n",
       "      <td>...</td>\n",
       "      <td>...</td>\n",
       "      <td>...</td>\n",
       "      <td>...</td>\n",
       "      <td>...</td>\n",
       "      <td>...</td>\n",
       "      <td>...</td>\n",
       "      <td>...</td>\n",
       "      <td>...</td>\n",
       "      <td>...</td>\n",
       "      <td>...</td>\n",
       "      <td>...</td>\n",
       "      <td>...</td>\n",
       "    </tr>\n",
       "    <tr>\n",
       "      <th>99223</th>\n",
       "      <td>1.560830</td>\n",
       "      <td>-0.431306</td>\n",
       "      <td>-0.519842</td>\n",
       "      <td>-0.525473</td>\n",
       "      <td>-0.522871</td>\n",
       "      <td>-0.526244</td>\n",
       "      <td>-0.523055</td>\n",
       "      <td>-0.528317</td>\n",
       "      <td>-0.533510</td>\n",
       "      <td>-0.535567</td>\n",
       "      <td>...</td>\n",
       "      <td>-0.164381</td>\n",
       "      <td>-0.17095</td>\n",
       "      <td>-0.191654</td>\n",
       "      <td>-0.173213</td>\n",
       "      <td>-0.130686</td>\n",
       "      <td>-0.172882</td>\n",
       "      <td>-0.116418</td>\n",
       "      <td>-0.147477</td>\n",
       "      <td>-0.111512</td>\n",
       "      <td>-0.140071</td>\n",
       "    </tr>\n",
       "    <tr>\n",
       "      <th>99224</th>\n",
       "      <td>1.566577</td>\n",
       "      <td>-0.431306</td>\n",
       "      <td>-0.347208</td>\n",
       "      <td>-0.385188</td>\n",
       "      <td>-0.403001</td>\n",
       "      <td>-0.418096</td>\n",
       "      <td>-0.424706</td>\n",
       "      <td>-0.435341</td>\n",
       "      <td>-0.444957</td>\n",
       "      <td>-0.450924</td>\n",
       "      <td>...</td>\n",
       "      <td>-0.164381</td>\n",
       "      <td>-0.17095</td>\n",
       "      <td>-0.191654</td>\n",
       "      <td>-0.173213</td>\n",
       "      <td>-0.130686</td>\n",
       "      <td>-0.172882</td>\n",
       "      <td>-0.116418</td>\n",
       "      <td>-0.147477</td>\n",
       "      <td>-0.111512</td>\n",
       "      <td>-0.140071</td>\n",
       "    </tr>\n",
       "    <tr>\n",
       "      <th>99225</th>\n",
       "      <td>1.560830</td>\n",
       "      <td>-0.431306</td>\n",
       "      <td>-0.519842</td>\n",
       "      <td>-0.525473</td>\n",
       "      <td>-0.522871</td>\n",
       "      <td>-0.526244</td>\n",
       "      <td>-0.523055</td>\n",
       "      <td>-0.528317</td>\n",
       "      <td>-0.533510</td>\n",
       "      <td>-0.535567</td>\n",
       "      <td>...</td>\n",
       "      <td>-0.164381</td>\n",
       "      <td>-0.17095</td>\n",
       "      <td>-0.191654</td>\n",
       "      <td>-0.173213</td>\n",
       "      <td>-0.130686</td>\n",
       "      <td>-0.172882</td>\n",
       "      <td>-0.116418</td>\n",
       "      <td>-0.147477</td>\n",
       "      <td>-0.111512</td>\n",
       "      <td>-0.140071</td>\n",
       "    </tr>\n",
       "    <tr>\n",
       "      <th>99226</th>\n",
       "      <td>1.560830</td>\n",
       "      <td>-0.431306</td>\n",
       "      <td>-0.519842</td>\n",
       "      <td>-0.525473</td>\n",
       "      <td>-0.522871</td>\n",
       "      <td>-0.526244</td>\n",
       "      <td>-0.523055</td>\n",
       "      <td>-0.528317</td>\n",
       "      <td>-0.533510</td>\n",
       "      <td>-0.535567</td>\n",
       "      <td>...</td>\n",
       "      <td>-0.164381</td>\n",
       "      <td>-0.17095</td>\n",
       "      <td>-0.191654</td>\n",
       "      <td>-0.173213</td>\n",
       "      <td>-0.130686</td>\n",
       "      <td>-0.172882</td>\n",
       "      <td>-0.116418</td>\n",
       "      <td>-0.147477</td>\n",
       "      <td>-0.111512</td>\n",
       "      <td>-0.140071</td>\n",
       "    </tr>\n",
       "    <tr>\n",
       "      <th>99227</th>\n",
       "      <td>1.566577</td>\n",
       "      <td>-0.431306</td>\n",
       "      <td>-0.431537</td>\n",
       "      <td>-0.453715</td>\n",
       "      <td>-0.461556</td>\n",
       "      <td>-0.470925</td>\n",
       "      <td>-0.472748</td>\n",
       "      <td>-0.480759</td>\n",
       "      <td>-0.488214</td>\n",
       "      <td>-0.492271</td>\n",
       "      <td>...</td>\n",
       "      <td>-0.164381</td>\n",
       "      <td>-0.17095</td>\n",
       "      <td>-0.191654</td>\n",
       "      <td>-0.173213</td>\n",
       "      <td>-0.130686</td>\n",
       "      <td>-0.172882</td>\n",
       "      <td>-0.116418</td>\n",
       "      <td>-0.147477</td>\n",
       "      <td>-0.111512</td>\n",
       "      <td>-0.140071</td>\n",
       "    </tr>\n",
       "  </tbody>\n",
       "</table>\n",
       "<p>99228 rows × 574 columns</p>\n",
       "</div>"
      ],
      "text/plain": [
       "            0         1         2         3         4         5         6    \\\n",
       "0     -1.576942 -0.431306 -0.519842 -0.525473 -0.522871 -0.526244 -0.523055   \n",
       "1     -1.574069 -0.431306 -0.519842 -0.525473 -0.522871 -0.526244 -0.523055   \n",
       "2     -1.571196 -0.431306 -0.519842 -0.525473 -0.522871 -0.526244 -0.523055   \n",
       "3     -1.568322 -0.431306 -0.519842 -0.525473 -0.522871 -0.526244 -0.523055   \n",
       "4     -1.565449 -0.431306 -0.519842 -0.525473 -0.522871 -0.526244 -0.523055   \n",
       "...         ...       ...       ...       ...       ...       ...       ...   \n",
       "99223  1.560830 -0.431306 -0.519842 -0.525473 -0.522871 -0.526244 -0.523055   \n",
       "99224  1.566577 -0.431306 -0.347208 -0.385188 -0.403001 -0.418096 -0.424706   \n",
       "99225  1.560830 -0.431306 -0.519842 -0.525473 -0.522871 -0.526244 -0.523055   \n",
       "99226  1.560830 -0.431306 -0.519842 -0.525473 -0.522871 -0.526244 -0.523055   \n",
       "99227  1.566577 -0.431306 -0.431537 -0.453715 -0.461556 -0.470925 -0.472748   \n",
       "\n",
       "            7         8         9    ...       564      565       566  \\\n",
       "0     -0.528317 -0.533510 -0.535567  ... -0.164381 -0.17095 -0.191654   \n",
       "1     -0.528317 -0.533510 -0.535567  ... -0.164381 -0.17095 -0.191654   \n",
       "2     -0.528317 -0.533510 -0.535567  ... -0.164381 -0.17095 -0.191654   \n",
       "3     -0.528317 -0.533510 -0.535567  ... -0.164381 -0.17095 -0.191654   \n",
       "4     -0.528317 -0.533510 -0.535567  ... -0.164381 -0.17095 -0.191654   \n",
       "...         ...       ...       ...  ...       ...      ...       ...   \n",
       "99223 -0.528317 -0.533510 -0.535567  ... -0.164381 -0.17095 -0.191654   \n",
       "99224 -0.435341 -0.444957 -0.450924  ... -0.164381 -0.17095 -0.191654   \n",
       "99225 -0.528317 -0.533510 -0.535567  ... -0.164381 -0.17095 -0.191654   \n",
       "99226 -0.528317 -0.533510 -0.535567  ... -0.164381 -0.17095 -0.191654   \n",
       "99227 -0.480759 -0.488214 -0.492271  ... -0.164381 -0.17095 -0.191654   \n",
       "\n",
       "            567       568       569       570       571       572       573  \n",
       "0     -0.173213 -0.130686 -0.172882 -0.116418 -0.147477 -0.111512  7.437182  \n",
       "1     -0.173213 -0.130686 -0.172882 -0.116418 -0.147477 -0.111512  7.437182  \n",
       "2     -0.173213 -0.130686 -0.172882 -0.116418 -0.147477 -0.111512  7.437182  \n",
       "3     -0.173213 -0.130686 -0.172882 -0.116418 -0.147477 -0.111512  7.437182  \n",
       "4     -0.173213 -0.130686 -0.172882 -0.116418 -0.147477 -0.111512  7.437182  \n",
       "...         ...       ...       ...       ...       ...       ...       ...  \n",
       "99223 -0.173213 -0.130686 -0.172882 -0.116418 -0.147477 -0.111512 -0.140071  \n",
       "99224 -0.173213 -0.130686 -0.172882 -0.116418 -0.147477 -0.111512 -0.140071  \n",
       "99225 -0.173213 -0.130686 -0.172882 -0.116418 -0.147477 -0.111512 -0.140071  \n",
       "99226 -0.173213 -0.130686 -0.172882 -0.116418 -0.147477 -0.111512 -0.140071  \n",
       "99227 -0.173213 -0.130686 -0.172882 -0.116418 -0.147477 -0.111512 -0.140071  \n",
       "\n",
       "[99228 rows x 574 columns]"
      ]
     },
     "execution_count": 127,
     "metadata": {},
     "output_type": "execute_result"
    }
   ],
   "source": [
    "from sklearn.preprocessing import StandardScaler\n",
    "sc = StandardScaler()\n",
    "X_train = sc.fit_transform(X_train)\n",
    "X_test = sc.transform(X_test)\n",
    "\n",
    "\n",
    "pd.DataFrame(X_train)"
   ]
  },
  {
   "cell_type": "code",
   "execution_count": 128,
   "metadata": {},
   "outputs": [],
   "source": [
    "best_params = {'batch_size': 10, 'epochs': 5, \"layer1\": 10, \"layer2\": 10}\n",
    "best_accuracy  = 0\n",
    "epochs = [5,10,15]\n",
    "batch_size = [10,20,30,40]\n",
    "layers1 = [10,20,30,40]\n",
    "layers2 = [10,20,30,40]\n",
    "\n",
    "for epoch in epochs:\n",
    "    for batch in batch_size:\n",
    "        for layer1 in layers1:\n",
    "            for layer2 in layers2:  \n",
    "                model = Sequential()\n",
    "                model.add(Dense(layer1, input_dim=X_train_pca.shape[1], activation='relu'))\n",
    "                model.add(Dense(layer2, activation='relu'))\n",
    "                model.add(Dense(1, activation='sigmoid'))\n",
    "                model.compile(loss='binary_crossentropy', optimizer='adam', metrics=['accuracy'])\n",
    "                model.fit(X_train, y_train, epochs=epoch, batch_size=batch, verbose=1)\n",
    "                test_accuracy = model.evaluate(X_test_pca, y_test)[1]\n",
    "                if test_accuracy > best_accuracy:\n",
    "                    best_accuracy = test_accuracy\n",
    "                    best_params = {'batch_size': batch, 'epochs': epoch, \"layer1\": layer1,\"layer2\"  : layer2}\n",
    "                    print(\"Best Parameters:\", best_params)\n",
    "                    print(\"Test Accuracy:\", test_accuracy)\n",
    "                print(\"Test Accuracy:\", test_accuracy)"
   ]
  },
  {
   "cell_type": "code",
   "execution_count": 129,
   "metadata": {},
   "outputs": [
    {
     "name": "stdout",
     "output_type": "stream",
     "text": [
      "Best Parameters: {'batch_size': 10, 'epochs': 5, 'layer1': 10, 'layer2': 10}\n"
     ]
    },
    {
     "data": {
      "text/plain": [
       "0"
      ]
     },
     "execution_count": 129,
     "metadata": {},
     "output_type": "execute_result"
    }
   ],
   "source": [
    "best_params = {'batch_size': 10, 'epochs': 5, \"layer1\": 10, \"layer2\": 10}\n",
    "print(\"Best Parameters:\", best_params)\n",
    "best_accuracy\n"
   ]
  },
  {
   "cell_type": "markdown",
   "metadata": {},
   "source": [
    "<h1>  Without PCA </h1>"
   ]
  },
  {
   "cell_type": "code",
   "execution_count": 130,
   "metadata": {},
   "outputs": [],
   "source": [
    "models_params_results = [ {\"report\" : [], \"params\" : {\"layer1\" : 16,\"layer2\" : 16,\"batch_size\" : 32 } }]"
   ]
  },
  {
   "cell_type": "code",
   "execution_count": 131,
   "metadata": {},
   "outputs": [
    {
     "name": "stderr",
     "output_type": "stream",
     "text": [
      "/home/benk/anaconda3/envs/DM_ENV/lib/python3.11/site-packages/keras/src/layers/core/dense.py:87: UserWarning: Do not pass an `input_shape`/`input_dim` argument to a layer. When using Sequential models, prefer using an `Input(shape)` object as the first layer in the model instead.\n",
      "  super().__init__(activity_regularizer=activity_regularizer, **kwargs)\n"
     ]
    },
    {
     "name": "stdout",
     "output_type": "stream",
     "text": [
      "Epoch 1/10\n",
      "\u001b[1m2836/2836\u001b[0m \u001b[32m━━━━━━━━━━━━━━━━━━━━\u001b[0m\u001b[37m\u001b[0m \u001b[1m2s\u001b[0m 480us/step - accuracy: 0.7251 - loss: 1.0054\n",
      "Epoch 2/10\n",
      "\u001b[1m2836/2836\u001b[0m \u001b[32m━━━━━━━━━━━━━━━━━━━━\u001b[0m\u001b[37m\u001b[0m \u001b[1m1s\u001b[0m 494us/step - accuracy: 0.8862 - loss: 0.2852\n",
      "Epoch 3/10\n",
      "\u001b[1m2836/2836\u001b[0m \u001b[32m━━━━━━━━━━━━━━━━━━━━\u001b[0m\u001b[37m\u001b[0m \u001b[1m1s\u001b[0m 508us/step - accuracy: 0.9090 - loss: 0.2321\n",
      "Epoch 4/10\n",
      "\u001b[1m2836/2836\u001b[0m \u001b[32m━━━━━━━━━━━━━━━━━━━━\u001b[0m\u001b[37m\u001b[0m \u001b[1m1s\u001b[0m 499us/step - accuracy: 0.9190 - loss: 0.2098\n",
      "Epoch 5/10\n",
      "\u001b[1m2836/2836\u001b[0m \u001b[32m━━━━━━━━━━━━━━━━━━━━\u001b[0m\u001b[37m\u001b[0m \u001b[1m1s\u001b[0m 510us/step - accuracy: 0.9255 - loss: 0.1931\n",
      "Epoch 6/10\n",
      "\u001b[1m2836/2836\u001b[0m \u001b[32m━━━━━━━━━━━━━━━━━━━━\u001b[0m\u001b[37m\u001b[0m \u001b[1m1s\u001b[0m 520us/step - accuracy: 0.9322 - loss: 0.1792\n",
      "Epoch 7/10\n",
      "\u001b[1m2836/2836\u001b[0m \u001b[32m━━━━━━━━━━━━━━━━━━━━\u001b[0m\u001b[37m\u001b[0m \u001b[1m1s\u001b[0m 468us/step - accuracy: 0.9356 - loss: 0.1710\n",
      "Epoch 8/10\n",
      "\u001b[1m2836/2836\u001b[0m \u001b[32m━━━━━━━━━━━━━━━━━━━━\u001b[0m\u001b[37m\u001b[0m \u001b[1m1s\u001b[0m 469us/step - accuracy: 0.9355 - loss: 0.1719\n",
      "Epoch 9/10\n",
      "\u001b[1m2836/2836\u001b[0m \u001b[32m━━━━━━━━━━━━━━━━━━━━\u001b[0m\u001b[37m\u001b[0m \u001b[1m1s\u001b[0m 489us/step - accuracy: 0.9401 - loss: 0.1619\n",
      "Epoch 10/10\n",
      "\u001b[1m2836/2836\u001b[0m \u001b[32m━━━━━━━━━━━━━━━━━━━━\u001b[0m\u001b[37m\u001b[0m \u001b[1m1s\u001b[0m 459us/step - accuracy: 0.9418 - loss: 0.1579\n"
     ]
    },
    {
     "data": {
      "text/plain": [
       "<keras.src.callbacks.history.History at 0x77f9b96ee510>"
      ]
     },
     "execution_count": 131,
     "metadata": {},
     "output_type": "execute_result"
    }
   ],
   "source": [
    "best_params = {'batch_size': 35, 'epochs': 10, \"layer1\": 16, \"layer2\": 16}\n",
    "model = Sequential()\n",
    "model.add(Dense(best_params['layer1'], input_dim=X_res.shape[1], activation='relu'))\n",
    "model.add(Dense(best_params['layer2'], activation='relu'))\n",
    "model.add(Dense(1, activation='sigmoid'))\n",
    "model.compile(loss='binary_crossentropy', optimizer='adam', metrics=['accuracy'])\n",
    "model.fit(X_res, y_res, epochs=best_params['epochs'], batch_size=best_params['batch_size'], verbose=1)\n",
    "\n"
   ]
  },
  {
   "cell_type": "code",
   "execution_count": 132,
   "metadata": {},
   "outputs": [
    {
     "name": "stdout",
     "output_type": "stream",
     "text": [
      "\u001b[1m728/728\u001b[0m \u001b[32m━━━━━━━━━━━━━━━━━━━━\u001b[0m\u001b[37m\u001b[0m \u001b[1m0s\u001b[0m 409us/step\n",
      "              precision    recall  f1-score   support\n",
      "\n",
      "           0       0.93      0.90      0.92     20998\n",
      "           1       0.29      0.37      0.33      2282\n",
      "\n",
      "    accuracy                           0.85     23280\n",
      "   macro avg       0.61      0.64      0.62     23280\n",
      "weighted avg       0.87      0.85      0.86     23280\n",
      "\n"
     ]
    }
   ],
   "source": [
    "predicted = model.predict(X_test) >= 0.5\n",
    "\n",
    "rep = classification_report(y_test, predicted)\n",
    "\n",
    "print(rep)"
   ]
  },
  {
   "cell_type": "code",
   "execution_count": 133,
   "metadata": {},
   "outputs": [],
   "source": [
    "X_temp = X_train\n",
    "y_temp = y_train"
   ]
  },
  {
   "cell_type": "code",
   "execution_count": 134,
   "metadata": {},
   "outputs": [
    {
     "name": "stderr",
     "output_type": "stream",
     "text": [
      "/home/benk/anaconda3/envs/DM_ENV/lib/python3.11/site-packages/keras/src/layers/core/dense.py:87: UserWarning: Do not pass an `input_shape`/`input_dim` argument to a layer. When using Sequential models, prefer using an `Input(shape)` object as the first layer in the model instead.\n",
      "  super().__init__(activity_regularizer=activity_regularizer, **kwargs)\n"
     ]
    },
    {
     "name": "stdout",
     "output_type": "stream",
     "text": [
      "Epoch 1/50\n",
      "\u001b[1m1985/1985\u001b[0m \u001b[32m━━━━━━━━━━━━━━━━━━━━\u001b[0m\u001b[37m\u001b[0m \u001b[1m2s\u001b[0m 497us/step - accuracy: 0.8049 - loss: 0.4115\n",
      "Epoch 2/50\n",
      "\u001b[1m1985/1985\u001b[0m \u001b[32m━━━━━━━━━━━━━━━━━━━━\u001b[0m\u001b[37m\u001b[0m \u001b[1m1s\u001b[0m 482us/step - accuracy: 0.9459 - loss: 0.1529\n",
      "Epoch 3/50\n",
      "\u001b[1m1985/1985\u001b[0m \u001b[32m━━━━━━━━━━━━━━━━━━━━\u001b[0m\u001b[37m\u001b[0m \u001b[1m1s\u001b[0m 538us/step - accuracy: 0.9670 - loss: 0.0964\n",
      "Epoch 4/50\n",
      "\u001b[1m1985/1985\u001b[0m \u001b[32m━━━━━━━━━━━━━━━━━━━━\u001b[0m\u001b[37m\u001b[0m \u001b[1m1s\u001b[0m 515us/step - accuracy: 0.9758 - loss: 0.0706\n",
      "Epoch 5/50\n",
      "\u001b[1m1985/1985\u001b[0m \u001b[32m━━━━━━━━━━━━━━━━━━━━\u001b[0m\u001b[37m\u001b[0m \u001b[1m1s\u001b[0m 503us/step - accuracy: 0.9783 - loss: 0.0617\n",
      "Epoch 6/50\n",
      "\u001b[1m1985/1985\u001b[0m \u001b[32m━━━━━━━━━━━━━━━━━━━━\u001b[0m\u001b[37m\u001b[0m \u001b[1m1s\u001b[0m 508us/step - accuracy: 0.9823 - loss: 0.0507\n",
      "Epoch 7/50\n",
      "\u001b[1m1985/1985\u001b[0m \u001b[32m━━━━━━━━━━━━━━━━━━━━\u001b[0m\u001b[37m\u001b[0m \u001b[1m1s\u001b[0m 511us/step - accuracy: 0.9847 - loss: 0.0441\n",
      "Epoch 8/50\n",
      "\u001b[1m1985/1985\u001b[0m \u001b[32m━━━━━━━━━━━━━━━━━━━━\u001b[0m\u001b[37m\u001b[0m \u001b[1m1s\u001b[0m 513us/step - accuracy: 0.9854 - loss: 0.0420\n",
      "Epoch 9/50\n",
      "\u001b[1m1985/1985\u001b[0m \u001b[32m━━━━━━━━━━━━━━━━━━━━\u001b[0m\u001b[37m\u001b[0m \u001b[1m1s\u001b[0m 527us/step - accuracy: 0.9866 - loss: 0.0389\n",
      "Epoch 10/50\n",
      "\u001b[1m1985/1985\u001b[0m \u001b[32m━━━━━━━━━━━━━━━━━━━━\u001b[0m\u001b[37m\u001b[0m \u001b[1m1s\u001b[0m 468us/step - accuracy: 0.9873 - loss: 0.0346\n",
      "Epoch 11/50\n",
      "\u001b[1m1985/1985\u001b[0m \u001b[32m━━━━━━━━━━━━━━━━━━━━\u001b[0m\u001b[37m\u001b[0m \u001b[1m1s\u001b[0m 477us/step - accuracy: 0.9882 - loss: 0.0329\n",
      "Epoch 12/50\n",
      "\u001b[1m1985/1985\u001b[0m \u001b[32m━━━━━━━━━━━━━━━━━━━━\u001b[0m\u001b[37m\u001b[0m \u001b[1m1s\u001b[0m 511us/step - accuracy: 0.9892 - loss: 0.0308\n",
      "Epoch 13/50\n",
      "\u001b[1m1985/1985\u001b[0m \u001b[32m━━━━━━━━━━━━━━━━━━━━\u001b[0m\u001b[37m\u001b[0m \u001b[1m1s\u001b[0m 475us/step - accuracy: 0.9890 - loss: 0.0301\n",
      "Epoch 14/50\n",
      "\u001b[1m1985/1985\u001b[0m \u001b[32m━━━━━━━━━━━━━━━━━━━━\u001b[0m\u001b[37m\u001b[0m \u001b[1m1s\u001b[0m 472us/step - accuracy: 0.9901 - loss: 0.0275\n",
      "Epoch 15/50\n",
      "\u001b[1m1985/1985\u001b[0m \u001b[32m━━━━━━━━━━━━━━━━━━━━\u001b[0m\u001b[37m\u001b[0m \u001b[1m1s\u001b[0m 509us/step - accuracy: 0.9897 - loss: 0.0284\n",
      "Epoch 16/50\n",
      "\u001b[1m1985/1985\u001b[0m \u001b[32m━━━━━━━━━━━━━━━━━━━━\u001b[0m\u001b[37m\u001b[0m \u001b[1m1s\u001b[0m 482us/step - accuracy: 0.9900 - loss: 0.0277\n",
      "Epoch 17/50\n",
      "\u001b[1m1985/1985\u001b[0m \u001b[32m━━━━━━━━━━━━━━━━━━━━\u001b[0m\u001b[37m\u001b[0m \u001b[1m1s\u001b[0m 475us/step - accuracy: 0.9911 - loss: 0.0260\n",
      "Epoch 18/50\n",
      "\u001b[1m1985/1985\u001b[0m \u001b[32m━━━━━━━━━━━━━━━━━━━━\u001b[0m\u001b[37m\u001b[0m \u001b[1m1s\u001b[0m 509us/step - accuracy: 0.9909 - loss: 0.0260\n",
      "Epoch 19/50\n",
      "\u001b[1m1985/1985\u001b[0m \u001b[32m━━━━━━━━━━━━━━━━━━━━\u001b[0m\u001b[37m\u001b[0m \u001b[1m1s\u001b[0m 478us/step - accuracy: 0.9915 - loss: 0.0244\n",
      "Epoch 20/50\n",
      "\u001b[1m1985/1985\u001b[0m \u001b[32m━━━━━━━━━━━━━━━━━━━━\u001b[0m\u001b[37m\u001b[0m \u001b[1m1s\u001b[0m 479us/step - accuracy: 0.9914 - loss: 0.0237\n",
      "Epoch 21/50\n",
      "\u001b[1m1985/1985\u001b[0m \u001b[32m━━━━━━━━━━━━━━━━━━━━\u001b[0m\u001b[37m\u001b[0m \u001b[1m1s\u001b[0m 505us/step - accuracy: 0.9929 - loss: 0.0208\n",
      "Epoch 22/50\n",
      "\u001b[1m1985/1985\u001b[0m \u001b[32m━━━━━━━━━━━━━━━━━━━━\u001b[0m\u001b[37m\u001b[0m \u001b[1m1s\u001b[0m 473us/step - accuracy: 0.9921 - loss: 0.0224\n",
      "Epoch 23/50\n",
      "\u001b[1m1985/1985\u001b[0m \u001b[32m━━━━━━━━━━━━━━━━━━━━\u001b[0m\u001b[37m\u001b[0m \u001b[1m1s\u001b[0m 471us/step - accuracy: 0.9924 - loss: 0.0200\n",
      "Epoch 24/50\n",
      "\u001b[1m1985/1985\u001b[0m \u001b[32m━━━━━━━━━━━━━━━━━━━━\u001b[0m\u001b[37m\u001b[0m \u001b[1m1s\u001b[0m 482us/step - accuracy: 0.9913 - loss: 0.0261\n",
      "Epoch 25/50\n",
      "\u001b[1m1985/1985\u001b[0m \u001b[32m━━━━━━━━━━━━━━━━━━━━\u001b[0m\u001b[37m\u001b[0m \u001b[1m1s\u001b[0m 506us/step - accuracy: 0.9924 - loss: 0.0212\n",
      "Epoch 26/50\n",
      "\u001b[1m1985/1985\u001b[0m \u001b[32m━━━━━━━━━━━━━━━━━━━━\u001b[0m\u001b[37m\u001b[0m \u001b[1m1s\u001b[0m 471us/step - accuracy: 0.9926 - loss: 0.0210\n",
      "Epoch 27/50\n",
      "\u001b[1m1985/1985\u001b[0m \u001b[32m━━━━━━━━━━━━━━━━━━━━\u001b[0m\u001b[37m\u001b[0m \u001b[1m1s\u001b[0m 467us/step - accuracy: 0.9924 - loss: 0.0204\n",
      "Epoch 28/50\n",
      "\u001b[1m1985/1985\u001b[0m \u001b[32m━━━━━━━━━━━━━━━━━━━━\u001b[0m\u001b[37m\u001b[0m \u001b[1m1s\u001b[0m 515us/step - accuracy: 0.9924 - loss: 0.0198\n",
      "Epoch 29/50\n",
      "\u001b[1m1985/1985\u001b[0m \u001b[32m━━━━━━━━━━━━━━━━━━━━\u001b[0m\u001b[37m\u001b[0m \u001b[1m1s\u001b[0m 481us/step - accuracy: 0.9925 - loss: 0.0204\n",
      "Epoch 30/50\n",
      "\u001b[1m1985/1985\u001b[0m \u001b[32m━━━━━━━━━━━━━━━━━━━━\u001b[0m\u001b[37m\u001b[0m \u001b[1m1s\u001b[0m 470us/step - accuracy: 0.9931 - loss: 0.0190\n",
      "Epoch 31/50\n",
      "\u001b[1m1985/1985\u001b[0m \u001b[32m━━━━━━━━━━━━━━━━━━━━\u001b[0m\u001b[37m\u001b[0m \u001b[1m1s\u001b[0m 503us/step - accuracy: 0.9926 - loss: 0.0196\n",
      "Epoch 32/50\n",
      "\u001b[1m1985/1985\u001b[0m \u001b[32m━━━━━━━━━━━━━━━━━━━━\u001b[0m\u001b[37m\u001b[0m \u001b[1m1s\u001b[0m 479us/step - accuracy: 0.9924 - loss: 0.0197\n",
      "Epoch 33/50\n",
      "\u001b[1m1985/1985\u001b[0m \u001b[32m━━━━━━━━━━━━━━━━━━━━\u001b[0m\u001b[37m\u001b[0m \u001b[1m1s\u001b[0m 474us/step - accuracy: 0.9933 - loss: 0.0189\n",
      "Epoch 34/50\n",
      "\u001b[1m1985/1985\u001b[0m \u001b[32m━━━━━━━━━━━━━━━━━━━━\u001b[0m\u001b[37m\u001b[0m \u001b[1m1s\u001b[0m 504us/step - accuracy: 0.9929 - loss: 0.0197\n",
      "Epoch 35/50\n",
      "\u001b[1m1985/1985\u001b[0m \u001b[32m━━━━━━━━━━━━━━━━━━━━\u001b[0m\u001b[37m\u001b[0m \u001b[1m1s\u001b[0m 469us/step - accuracy: 0.9936 - loss: 0.0171\n",
      "Epoch 36/50\n",
      "\u001b[1m1985/1985\u001b[0m \u001b[32m━━━━━━━━━━━━━━━━━━━━\u001b[0m\u001b[37m\u001b[0m \u001b[1m1s\u001b[0m 485us/step - accuracy: 0.9931 - loss: 0.0184\n",
      "Epoch 37/50\n",
      "\u001b[1m1985/1985\u001b[0m \u001b[32m━━━━━━━━━━━━━━━━━━━━\u001b[0m\u001b[37m\u001b[0m \u001b[1m1s\u001b[0m 478us/step - accuracy: 0.9931 - loss: 0.0185\n",
      "Epoch 38/50\n",
      "\u001b[1m1985/1985\u001b[0m \u001b[32m━━━━━━━━━━━━━━━━━━━━\u001b[0m\u001b[37m\u001b[0m \u001b[1m1s\u001b[0m 503us/step - accuracy: 0.9925 - loss: 0.0195\n",
      "Epoch 39/50\n",
      "\u001b[1m1985/1985\u001b[0m \u001b[32m━━━━━━━━━━━━━━━━━━━━\u001b[0m\u001b[37m\u001b[0m \u001b[1m1s\u001b[0m 468us/step - accuracy: 0.9939 - loss: 0.0160\n",
      "Epoch 40/50\n",
      "\u001b[1m1985/1985\u001b[0m \u001b[32m━━━━━━━━━━━━━━━━━━━━\u001b[0m\u001b[37m\u001b[0m \u001b[1m1s\u001b[0m 487us/step - accuracy: 0.9934 - loss: 0.0188\n",
      "Epoch 41/50\n",
      "\u001b[1m1985/1985\u001b[0m \u001b[32m━━━━━━━━━━━━━━━━━━━━\u001b[0m\u001b[37m\u001b[0m \u001b[1m1s\u001b[0m 506us/step - accuracy: 0.9932 - loss: 0.0189\n",
      "Epoch 42/50\n",
      "\u001b[1m1985/1985\u001b[0m \u001b[32m━━━━━━━━━━━━━━━━━━━━\u001b[0m\u001b[37m\u001b[0m \u001b[1m1s\u001b[0m 469us/step - accuracy: 0.9935 - loss: 0.0165\n",
      "Epoch 43/50\n",
      "\u001b[1m1985/1985\u001b[0m \u001b[32m━━━━━━━━━━━━━━━━━━━━\u001b[0m\u001b[37m\u001b[0m \u001b[1m1s\u001b[0m 467us/step - accuracy: 0.9941 - loss: 0.0163\n",
      "Epoch 44/50\n",
      "\u001b[1m1985/1985\u001b[0m \u001b[32m━━━━━━━━━━━━━━━━━━━━\u001b[0m\u001b[37m\u001b[0m \u001b[1m1s\u001b[0m 519us/step - accuracy: 0.9936 - loss: 0.0169\n",
      "Epoch 45/50\n",
      "\u001b[1m1985/1985\u001b[0m \u001b[32m━━━━━━━━━━━━━━━━━━━━\u001b[0m\u001b[37m\u001b[0m \u001b[1m1s\u001b[0m 480us/step - accuracy: 0.9938 - loss: 0.0163\n",
      "Epoch 46/50\n",
      "\u001b[1m1985/1985\u001b[0m \u001b[32m━━━━━━━━━━━━━━━━━━━━\u001b[0m\u001b[37m\u001b[0m \u001b[1m1s\u001b[0m 479us/step - accuracy: 0.9932 - loss: 0.0191\n",
      "Epoch 47/50\n",
      "\u001b[1m1985/1985\u001b[0m \u001b[32m━━━━━━━━━━━━━━━━━━━━\u001b[0m\u001b[37m\u001b[0m \u001b[1m1s\u001b[0m 502us/step - accuracy: 0.9933 - loss: 0.0186\n",
      "Epoch 48/50\n",
      "\u001b[1m1985/1985\u001b[0m \u001b[32m━━━━━━━━━━━━━━━━━━━━\u001b[0m\u001b[37m\u001b[0m \u001b[1m1s\u001b[0m 485us/step - accuracy: 0.9936 - loss: 0.0186\n",
      "Epoch 49/50\n",
      "\u001b[1m1985/1985\u001b[0m \u001b[32m━━━━━━━━━━━━━━━━━━━━\u001b[0m\u001b[37m\u001b[0m \u001b[1m1s\u001b[0m 479us/step - accuracy: 0.9940 - loss: 0.0161\n",
      "Epoch 50/50\n",
      "\u001b[1m1985/1985\u001b[0m \u001b[32m━━━━━━━━━━━━━━━━━━━━\u001b[0m\u001b[37m\u001b[0m \u001b[1m1s\u001b[0m 507us/step - accuracy: 0.9948 - loss: 0.0150\n"
     ]
    },
    {
     "data": {
      "text/plain": [
       "<keras.src.callbacks.history.History at 0x77f9bb186b50>"
      ]
     },
     "execution_count": 134,
     "metadata": {},
     "output_type": "execute_result"
    }
   ],
   "source": [
    "best_params = {'batch_size': 50, 'epochs': 50, \"layer1\": 16, \"layer2\": 16}\n",
    "model = Sequential()\n",
    "model.add(Dense(best_params['layer1'], input_dim=X_temp.shape[1], activation='relu'))\n",
    "model.add(Dense(best_params['layer2'], activation='relu'))\n",
    "model.add(Dense(1, activation='sigmoid'))\n",
    "model.compile(loss='binary_crossentropy', optimizer='adam', metrics=['accuracy'])\n",
    "model.fit(X_temp, y_temp, epochs=best_params['epochs'], batch_size=best_params['batch_size'], verbose=1)"
   ]
  },
  {
   "cell_type": "code",
   "execution_count": 135,
   "metadata": {},
   "outputs": [
    {
     "name": "stdout",
     "output_type": "stream",
     "text": [
      "\u001b[1m728/728\u001b[0m \u001b[32m━━━━━━━━━━━━━━━━━━━━\u001b[0m\u001b[37m\u001b[0m \u001b[1m0s\u001b[0m 363us/step\n",
      "              precision    recall  f1-score   support\n",
      "\n",
      "           0       0.92      0.97      0.94     20998\n",
      "           1       0.38      0.19      0.26      2282\n",
      "\n",
      "    accuracy                           0.89     23280\n",
      "   macro avg       0.65      0.58      0.60     23280\n",
      "weighted avg       0.86      0.89      0.87     23280\n",
      "\n"
     ]
    }
   ],
   "source": [
    "predicted = model.predict(X_test) >= 0.5 \n",
    "rep = classification_report(y_test, predicted)\n",
    "\n",
    "print(rep)"
   ]
  },
  {
   "cell_type": "markdown",
   "metadata": {},
   "source": [
    "<h1>  WITH OverSampling </h1>"
   ]
  },
  {
   "cell_type": "code",
   "execution_count": 136,
   "metadata": {},
   "outputs": [],
   "source": [
    "from imblearn.over_sampling import ADASYN\n",
    "adasyn = ADASYN(random_state=42)\n",
    "X_res, y_res = adasyn.fit_resample(X_train, y_train)"
   ]
  },
  {
   "cell_type": "code",
   "execution_count": 137,
   "metadata": {},
   "outputs": [
    {
     "name": "stdout",
     "output_type": "stream",
     "text": [
      "\u001b[1m728/728\u001b[0m \u001b[32m━━━━━━━━━━━━━━━━━━━━\u001b[0m\u001b[37m\u001b[0m \u001b[1m0s\u001b[0m 379us/step\n"
     ]
    }
   ],
   "source": [
    "predicted = model.predict(X_test) > 0.5"
   ]
  },
  {
   "cell_type": "code",
   "execution_count": 138,
   "metadata": {},
   "outputs": [
    {
     "name": "stdout",
     "output_type": "stream",
     "text": [
      "              precision    recall  f1-score   support\n",
      "\n",
      "           0       0.92      0.97      0.94     20998\n",
      "           1       0.38      0.19      0.26      2282\n",
      "\n",
      "    accuracy                           0.89     23280\n",
      "   macro avg       0.65      0.58      0.60     23280\n",
      "weighted avg       0.86      0.89      0.87     23280\n",
      "\n"
     ]
    }
   ],
   "source": [
    "print(classification_report(y_test, predicted))"
   ]
  },
  {
   "cell_type": "markdown",
   "metadata": {},
   "source": [
    "<h1>  Trying oversampling </h1>"
   ]
  },
  {
   "cell_type": "code",
   "execution_count": 139,
   "metadata": {},
   "outputs": [],
   "source": [
    "from imblearn import over_sampling\n",
    "import keras\n",
    "#merge X_train_pca and y_train\n",
    "X_train_pca_df = pd.DataFrame(X_train_pca)\n",
    "y_train_df = pd.DataFrame(y_train)\n"
   ]
  },
  {
   "cell_type": "code",
   "execution_count": 140,
   "metadata": {},
   "outputs": [],
   "source": [
    "oversampler = over_sampling.RandomOverSampler(sampling_strategy=\"minority\")"
   ]
  },
  {
   "cell_type": "code",
   "execution_count": 141,
   "metadata": {},
   "outputs": [],
   "source": [
    "X_over, y_over = oversampler.fit_resample(X_train_pca_df, y_train_df)"
   ]
  },
  {
   "cell_type": "code",
   "execution_count": 142,
   "metadata": {},
   "outputs": [
    {
     "name": "stdout",
     "output_type": "stream",
     "text": [
      "target\n",
      "0    49655\n",
      "1    49573\n",
      "Name: count, dtype: int64\n"
     ]
    },
    {
     "data": {
      "text/plain": [
       "target\n",
       "0         49655\n",
       "1         49655\n",
       "Name: count, dtype: int64"
      ]
     },
     "execution_count": 142,
     "metadata": {},
     "output_type": "execute_result"
    }
   ],
   "source": [
    "print(y_train.value_counts())\n",
    "y_over.value_counts()"
   ]
  },
  {
   "cell_type": "code",
   "execution_count": 143,
   "metadata": {},
   "outputs": [
    {
     "name": "stdout",
     "output_type": "stream",
     "text": [
      "Epoch 1/10\n"
     ]
    },
    {
     "name": "stderr",
     "output_type": "stream",
     "text": [
      "/home/benk/anaconda3/envs/DM_ENV/lib/python3.11/site-packages/keras/src/layers/core/dense.py:87: UserWarning: Do not pass an `input_shape`/`input_dim` argument to a layer. When using Sequential models, prefer using an `Input(shape)` object as the first layer in the model instead.\n",
      "  super().__init__(activity_regularizer=activity_regularizer, **kwargs)\n"
     ]
    },
    {
     "name": "stdout",
     "output_type": "stream",
     "text": [
      "\u001b[1m9931/9931\u001b[0m \u001b[32m━━━━━━━━━━━━━━━━━━━━\u001b[0m\u001b[37m\u001b[0m \u001b[1m5s\u001b[0m 423us/step - accuracy: 0.5789 - loss: 0.8376\n",
      "Epoch 2/10\n",
      "\u001b[1m9931/9931\u001b[0m \u001b[32m━━━━━━━━━━━━━━━━━━━━\u001b[0m\u001b[37m\u001b[0m \u001b[1m4s\u001b[0m 416us/step - accuracy: 0.6739 - loss: 0.5986\n",
      "Epoch 3/10\n",
      "\u001b[1m9931/9931\u001b[0m \u001b[32m━━━━━━━━━━━━━━━━━━━━\u001b[0m\u001b[37m\u001b[0m \u001b[1m4s\u001b[0m 398us/step - accuracy: 0.7384 - loss: 0.5014\n",
      "Epoch 4/10\n",
      "\u001b[1m9931/9931\u001b[0m \u001b[32m━━━━━━━━━━━━━━━━━━━━\u001b[0m\u001b[37m\u001b[0m \u001b[1m4s\u001b[0m 392us/step - accuracy: 0.8279 - loss: 0.3963\n",
      "Epoch 5/10\n",
      "\u001b[1m9931/9931\u001b[0m \u001b[32m━━━━━━━━━━━━━━━━━━━━\u001b[0m\u001b[37m\u001b[0m \u001b[1m4s\u001b[0m 393us/step - accuracy: 0.8417 - loss: 0.3688\n",
      "Epoch 6/10\n",
      "\u001b[1m9931/9931\u001b[0m \u001b[32m━━━━━━━━━━━━━━━━━━━━\u001b[0m\u001b[37m\u001b[0m \u001b[1m4s\u001b[0m 392us/step - accuracy: 0.8447 - loss: 0.3595\n",
      "Epoch 7/10\n",
      "\u001b[1m9931/9931\u001b[0m \u001b[32m━━━━━━━━━━━━━━━━━━━━\u001b[0m\u001b[37m\u001b[0m \u001b[1m4s\u001b[0m 395us/step - accuracy: 0.8492 - loss: 0.3558\n",
      "Epoch 8/10\n",
      "\u001b[1m9931/9931\u001b[0m \u001b[32m━━━━━━━━━━━━━━━━━━━━\u001b[0m\u001b[37m\u001b[0m \u001b[1m4s\u001b[0m 393us/step - accuracy: 0.8569 - loss: 0.3465\n",
      "Epoch 9/10\n",
      "\u001b[1m9931/9931\u001b[0m \u001b[32m━━━━━━━━━━━━━━━━━━━━\u001b[0m\u001b[37m\u001b[0m \u001b[1m4s\u001b[0m 394us/step - accuracy: 0.8568 - loss: 0.3459\n",
      "Epoch 10/10\n",
      "\u001b[1m9931/9931\u001b[0m \u001b[32m━━━━━━━━━━━━━━━━━━━━\u001b[0m\u001b[37m\u001b[0m \u001b[1m4s\u001b[0m 396us/step - accuracy: 0.8568 - loss: 0.3455\n"
     ]
    },
    {
     "data": {
      "text/plain": [
       "<keras.src.callbacks.history.History at 0x77f9bb28d910>"
      ]
     },
     "execution_count": 143,
     "metadata": {},
     "output_type": "execute_result"
    }
   ],
   "source": [
    "best_params = {'batch_size': 10, 'epochs': 10, \"layer1\": 30, \"layer2\": 30}\n",
    "model = Sequential()\n",
    "model.add(Dense(best_params['layer1'], input_dim=X_train_pca.shape[1], activation='relu'))\n",
    "model.add(Dense(best_params['layer2'], activation='relu'))\n",
    "model.add(Dense(1, activation='sigmoid'))\n",
    "model.compile(loss=keras.losses.binary_crossentropy, optimizer='adam', metrics=['accuracy'])\n",
    "model.fit(X_over, y_over, epochs=best_params['epochs'], batch_size=best_params['batch_size'], verbose=1)"
   ]
  },
  {
   "cell_type": "code",
   "execution_count": 144,
   "metadata": {},
   "outputs": [
    {
     "name": "stdout",
     "output_type": "stream",
     "text": [
      "\u001b[1m728/728\u001b[0m \u001b[32m━━━━━━━━━━━━━━━━━━━━\u001b[0m\u001b[37m\u001b[0m \u001b[1m0s\u001b[0m 425us/step\n",
      "              precision    recall  f1-score   support\n",
      "\n",
      "       False       0.69      0.90      0.78     16171\n",
      "        True       0.27      0.09      0.13      7109\n",
      "\n",
      "    accuracy                           0.65     23280\n",
      "   macro avg       0.48      0.49      0.46     23280\n",
      "weighted avg       0.56      0.65      0.58     23280\n",
      "\n"
     ]
    }
   ],
   "source": [
    "predicted = model.predict(X_test_pca) > 0.5\n",
    "print(classification_report(predicted, y_test))"
   ]
  },
  {
   "cell_type": "code",
   "execution_count": 145,
   "metadata": {},
   "outputs": [
    {
     "data": {
      "text/plain": [
       "target\n",
       "0    49655\n",
       "1    49573\n",
       "Name: count, dtype: int64"
      ]
     },
     "execution_count": 145,
     "metadata": {},
     "output_type": "execute_result"
    }
   ],
   "source": [
    "y_train.value_counts()"
   ]
  },
  {
   "cell_type": "markdown",
   "metadata": {},
   "source": [
    "<h1 style=\"color:green\">  Decision Tree Classifier </h1>"
   ]
  },
  {
   "cell_type": "code",
   "execution_count": 146,
   "metadata": {},
   "outputs": [],
   "source": [
    "from sklearn.tree import DecisionTreeClassifier\n",
    "from sklearn.metrics import accuracy_score\n",
    "\n",
    "dt = DecisionTreeClassifier(criterion=\"entropy\",max_depth=5,random_state=46,splitter=\"best\")\n",
    "dt.fit(X_over, y_over)\n",
    "\n",
    "test_predicted = dt.predict(X_over)\n",
    "\n"
   ]
  },
  {
   "cell_type": "code",
   "execution_count": 147,
   "metadata": {},
   "outputs": [
    {
     "data": {
      "text/plain": [
       "target\n",
       "0    20998\n",
       "1     2282\n",
       "Name: count, dtype: int64"
      ]
     },
     "execution_count": 147,
     "metadata": {},
     "output_type": "execute_result"
    }
   ],
   "source": [
    "y_test.value_counts()"
   ]
  },
  {
   "cell_type": "code",
   "execution_count": 148,
   "metadata": {},
   "outputs": [
    {
     "name": "stdout",
     "output_type": "stream",
     "text": [
      "              precision    recall  f1-score   support\n",
      "\n",
      "           0       0.82      0.94      0.88     42976\n",
      "           1       0.95      0.84      0.89     56334\n",
      "\n",
      "    accuracy                           0.88     99310\n",
      "   macro avg       0.88      0.89      0.88     99310\n",
      "weighted avg       0.89      0.88      0.89     99310\n",
      "\n"
     ]
    }
   ],
   "source": [
    "print(classification_report(test_predicted, y_over))"
   ]
  },
  {
   "cell_type": "markdown",
   "metadata": {},
   "source": [
    "<h1> \n",
    "\n",
    "\n",
    "K Nearest Neighbour\n",
    "\n",
    "\n",
    "\n",
    "\n",
    " </h1>"
   ]
  },
  {
   "cell_type": "code",
   "execution_count": 149,
   "metadata": {},
   "outputs": [],
   "source": [
    "knn_classifier = KNeighborsClassifier(n_neighbors=5)  \n"
   ]
  },
  {
   "cell_type": "code",
   "execution_count": 150,
   "metadata": {},
   "outputs": [
    {
     "data": {
      "text/html": [
       "<style>#sk-container-id-7 {color: black;}#sk-container-id-7 pre{padding: 0;}#sk-container-id-7 div.sk-toggleable {background-color: white;}#sk-container-id-7 label.sk-toggleable__label {cursor: pointer;display: block;width: 100%;margin-bottom: 0;padding: 0.3em;box-sizing: border-box;text-align: center;}#sk-container-id-7 label.sk-toggleable__label-arrow:before {content: \"▸\";float: left;margin-right: 0.25em;color: #696969;}#sk-container-id-7 label.sk-toggleable__label-arrow:hover:before {color: black;}#sk-container-id-7 div.sk-estimator:hover label.sk-toggleable__label-arrow:before {color: black;}#sk-container-id-7 div.sk-toggleable__content {max-height: 0;max-width: 0;overflow: hidden;text-align: left;background-color: #f0f8ff;}#sk-container-id-7 div.sk-toggleable__content pre {margin: 0.2em;color: black;border-radius: 0.25em;background-color: #f0f8ff;}#sk-container-id-7 input.sk-toggleable__control:checked~div.sk-toggleable__content {max-height: 200px;max-width: 100%;overflow: auto;}#sk-container-id-7 input.sk-toggleable__control:checked~label.sk-toggleable__label-arrow:before {content: \"▾\";}#sk-container-id-7 div.sk-estimator input.sk-toggleable__control:checked~label.sk-toggleable__label {background-color: #d4ebff;}#sk-container-id-7 div.sk-label input.sk-toggleable__control:checked~label.sk-toggleable__label {background-color: #d4ebff;}#sk-container-id-7 input.sk-hidden--visually {border: 0;clip: rect(1px 1px 1px 1px);clip: rect(1px, 1px, 1px, 1px);height: 1px;margin: -1px;overflow: hidden;padding: 0;position: absolute;width: 1px;}#sk-container-id-7 div.sk-estimator {font-family: monospace;background-color: #f0f8ff;border: 1px dotted black;border-radius: 0.25em;box-sizing: border-box;margin-bottom: 0.5em;}#sk-container-id-7 div.sk-estimator:hover {background-color: #d4ebff;}#sk-container-id-7 div.sk-parallel-item::after {content: \"\";width: 100%;border-bottom: 1px solid gray;flex-grow: 1;}#sk-container-id-7 div.sk-label:hover label.sk-toggleable__label {background-color: #d4ebff;}#sk-container-id-7 div.sk-serial::before {content: \"\";position: absolute;border-left: 1px solid gray;box-sizing: border-box;top: 0;bottom: 0;left: 50%;z-index: 0;}#sk-container-id-7 div.sk-serial {display: flex;flex-direction: column;align-items: center;background-color: white;padding-right: 0.2em;padding-left: 0.2em;position: relative;}#sk-container-id-7 div.sk-item {position: relative;z-index: 1;}#sk-container-id-7 div.sk-parallel {display: flex;align-items: stretch;justify-content: center;background-color: white;position: relative;}#sk-container-id-7 div.sk-item::before, #sk-container-id-7 div.sk-parallel-item::before {content: \"\";position: absolute;border-left: 1px solid gray;box-sizing: border-box;top: 0;bottom: 0;left: 50%;z-index: -1;}#sk-container-id-7 div.sk-parallel-item {display: flex;flex-direction: column;z-index: 1;position: relative;background-color: white;}#sk-container-id-7 div.sk-parallel-item:first-child::after {align-self: flex-end;width: 50%;}#sk-container-id-7 div.sk-parallel-item:last-child::after {align-self: flex-start;width: 50%;}#sk-container-id-7 div.sk-parallel-item:only-child::after {width: 0;}#sk-container-id-7 div.sk-dashed-wrapped {border: 1px dashed gray;margin: 0 0.4em 0.5em 0.4em;box-sizing: border-box;padding-bottom: 0.4em;background-color: white;}#sk-container-id-7 div.sk-label label {font-family: monospace;font-weight: bold;display: inline-block;line-height: 1.2em;}#sk-container-id-7 div.sk-label-container {text-align: center;}#sk-container-id-7 div.sk-container {/* jupyter's `normalize.less` sets `[hidden] { display: none; }` but bootstrap.min.css set `[hidden] { display: none !important; }` so we also need the `!important` here to be able to override the default hidden behavior on the sphinx rendered scikit-learn.org. See: https://github.com/scikit-learn/scikit-learn/issues/21755 */display: inline-block !important;position: relative;}#sk-container-id-7 div.sk-text-repr-fallback {display: none;}</style><div id=\"sk-container-id-7\" class=\"sk-top-container\"><div class=\"sk-text-repr-fallback\"><pre>KNeighborsClassifier()</pre><b>In a Jupyter environment, please rerun this cell to show the HTML representation or trust the notebook. <br />On GitHub, the HTML representation is unable to render, please try loading this page with nbviewer.org.</b></div><div class=\"sk-container\" hidden><div class=\"sk-item\"><div class=\"sk-estimator sk-toggleable\"><input class=\"sk-toggleable__control sk-hidden--visually\" id=\"sk-estimator-id-7\" type=\"checkbox\" checked><label for=\"sk-estimator-id-7\" class=\"sk-toggleable__label sk-toggleable__label-arrow\">KNeighborsClassifier</label><div class=\"sk-toggleable__content\"><pre>KNeighborsClassifier()</pre></div></div></div></div></div>"
      ],
      "text/plain": [
       "KNeighborsClassifier()"
      ]
     },
     "execution_count": 150,
     "metadata": {},
     "output_type": "execute_result"
    }
   ],
   "source": [
    "# Train the Model\n",
    "knn_classifier.fit(X_train_pca, y_train)"
   ]
  },
  {
   "cell_type": "code",
   "execution_count": 151,
   "metadata": {},
   "outputs": [],
   "source": [
    "y_pred = knn_classifier.predict(X_test_pca)\n"
   ]
  },
  {
   "cell_type": "code",
   "execution_count": 152,
   "metadata": {},
   "outputs": [],
   "source": [
    "y_pred = np.array(y_pred)"
   ]
  },
  {
   "cell_type": "code",
   "execution_count": 153,
   "metadata": {},
   "outputs": [
    {
     "data": {
      "text/plain": [
       "array([0, 0, 0, ..., 0, 0, 0])"
      ]
     },
     "execution_count": 153,
     "metadata": {},
     "output_type": "execute_result"
    }
   ],
   "source": [
    "y_pred"
   ]
  },
  {
   "cell_type": "code",
   "execution_count": 154,
   "metadata": {},
   "outputs": [
    {
     "data": {
      "text/plain": [
       "0        0\n",
       "1        0\n",
       "2        0\n",
       "3        0\n",
       "4        0\n",
       "        ..\n",
       "23275    0\n",
       "23276    0\n",
       "23277    0\n",
       "23278    0\n",
       "23279    0\n",
       "Name: target, Length: 23280, dtype: int64"
      ]
     },
     "execution_count": 154,
     "metadata": {},
     "output_type": "execute_result"
    }
   ],
   "source": [
    "y_test"
   ]
  },
  {
   "cell_type": "code",
   "execution_count": 155,
   "metadata": {},
   "outputs": [
    {
     "name": "stdout",
     "output_type": "stream",
     "text": [
      "Accuracy: 0.7950171821305841\n"
     ]
    }
   ],
   "source": [
    "accuracy = accuracy_score(y_test, y_pred)\n",
    "print(\"Accuracy:\", accuracy)"
   ]
  },
  {
   "cell_type": "code",
   "execution_count": 156,
   "metadata": {},
   "outputs": [
    {
     "name": "stdout",
     "output_type": "stream",
     "text": [
      "classification report:               precision    recall  f1-score   support\n",
      "\n",
      "           0       0.92      0.85      0.88     20998\n",
      "           1       0.17      0.29      0.22      2282\n",
      "\n",
      "    accuracy                           0.80     23280\n",
      "   macro avg       0.55      0.57      0.55     23280\n",
      "weighted avg       0.84      0.80      0.82     23280\n",
      "\n"
     ]
    }
   ],
   "source": [
    "from sklearn.metrics import classification_report\n",
    "classification_report = classification_report(y_test, y_pred)\n",
    "print(\"classification report:\", classification_report)"
   ]
  },
  {
   "cell_type": "code",
   "execution_count": 157,
   "metadata": {},
   "outputs": [
    {
     "data": {
      "text/html": [
       "<style>#sk-container-id-8 {color: black;}#sk-container-id-8 pre{padding: 0;}#sk-container-id-8 div.sk-toggleable {background-color: white;}#sk-container-id-8 label.sk-toggleable__label {cursor: pointer;display: block;width: 100%;margin-bottom: 0;padding: 0.3em;box-sizing: border-box;text-align: center;}#sk-container-id-8 label.sk-toggleable__label-arrow:before {content: \"▸\";float: left;margin-right: 0.25em;color: #696969;}#sk-container-id-8 label.sk-toggleable__label-arrow:hover:before {color: black;}#sk-container-id-8 div.sk-estimator:hover label.sk-toggleable__label-arrow:before {color: black;}#sk-container-id-8 div.sk-toggleable__content {max-height: 0;max-width: 0;overflow: hidden;text-align: left;background-color: #f0f8ff;}#sk-container-id-8 div.sk-toggleable__content pre {margin: 0.2em;color: black;border-radius: 0.25em;background-color: #f0f8ff;}#sk-container-id-8 input.sk-toggleable__control:checked~div.sk-toggleable__content {max-height: 200px;max-width: 100%;overflow: auto;}#sk-container-id-8 input.sk-toggleable__control:checked~label.sk-toggleable__label-arrow:before {content: \"▾\";}#sk-container-id-8 div.sk-estimator input.sk-toggleable__control:checked~label.sk-toggleable__label {background-color: #d4ebff;}#sk-container-id-8 div.sk-label input.sk-toggleable__control:checked~label.sk-toggleable__label {background-color: #d4ebff;}#sk-container-id-8 input.sk-hidden--visually {border: 0;clip: rect(1px 1px 1px 1px);clip: rect(1px, 1px, 1px, 1px);height: 1px;margin: -1px;overflow: hidden;padding: 0;position: absolute;width: 1px;}#sk-container-id-8 div.sk-estimator {font-family: monospace;background-color: #f0f8ff;border: 1px dotted black;border-radius: 0.25em;box-sizing: border-box;margin-bottom: 0.5em;}#sk-container-id-8 div.sk-estimator:hover {background-color: #d4ebff;}#sk-container-id-8 div.sk-parallel-item::after {content: \"\";width: 100%;border-bottom: 1px solid gray;flex-grow: 1;}#sk-container-id-8 div.sk-label:hover label.sk-toggleable__label {background-color: #d4ebff;}#sk-container-id-8 div.sk-serial::before {content: \"\";position: absolute;border-left: 1px solid gray;box-sizing: border-box;top: 0;bottom: 0;left: 50%;z-index: 0;}#sk-container-id-8 div.sk-serial {display: flex;flex-direction: column;align-items: center;background-color: white;padding-right: 0.2em;padding-left: 0.2em;position: relative;}#sk-container-id-8 div.sk-item {position: relative;z-index: 1;}#sk-container-id-8 div.sk-parallel {display: flex;align-items: stretch;justify-content: center;background-color: white;position: relative;}#sk-container-id-8 div.sk-item::before, #sk-container-id-8 div.sk-parallel-item::before {content: \"\";position: absolute;border-left: 1px solid gray;box-sizing: border-box;top: 0;bottom: 0;left: 50%;z-index: -1;}#sk-container-id-8 div.sk-parallel-item {display: flex;flex-direction: column;z-index: 1;position: relative;background-color: white;}#sk-container-id-8 div.sk-parallel-item:first-child::after {align-self: flex-end;width: 50%;}#sk-container-id-8 div.sk-parallel-item:last-child::after {align-self: flex-start;width: 50%;}#sk-container-id-8 div.sk-parallel-item:only-child::after {width: 0;}#sk-container-id-8 div.sk-dashed-wrapped {border: 1px dashed gray;margin: 0 0.4em 0.5em 0.4em;box-sizing: border-box;padding-bottom: 0.4em;background-color: white;}#sk-container-id-8 div.sk-label label {font-family: monospace;font-weight: bold;display: inline-block;line-height: 1.2em;}#sk-container-id-8 div.sk-label-container {text-align: center;}#sk-container-id-8 div.sk-container {/* jupyter's `normalize.less` sets `[hidden] { display: none; }` but bootstrap.min.css set `[hidden] { display: none !important; }` so we also need the `!important` here to be able to override the default hidden behavior on the sphinx rendered scikit-learn.org. See: https://github.com/scikit-learn/scikit-learn/issues/21755 */display: inline-block !important;position: relative;}#sk-container-id-8 div.sk-text-repr-fallback {display: none;}</style><div id=\"sk-container-id-8\" class=\"sk-top-container\"><div class=\"sk-text-repr-fallback\"><pre>KNeighborsClassifier()</pre><b>In a Jupyter environment, please rerun this cell to show the HTML representation or trust the notebook. <br />On GitHub, the HTML representation is unable to render, please try loading this page with nbviewer.org.</b></div><div class=\"sk-container\" hidden><div class=\"sk-item\"><div class=\"sk-estimator sk-toggleable\"><input class=\"sk-toggleable__control sk-hidden--visually\" id=\"sk-estimator-id-8\" type=\"checkbox\" checked><label for=\"sk-estimator-id-8\" class=\"sk-toggleable__label sk-toggleable__label-arrow\">KNeighborsClassifier</label><div class=\"sk-toggleable__content\"><pre>KNeighborsClassifier()</pre></div></div></div></div></div>"
      ],
      "text/plain": [
       "KNeighborsClassifier()"
      ]
     },
     "execution_count": 157,
     "metadata": {},
     "output_type": "execute_result"
    }
   ],
   "source": [
    "\n",
    "# Train the Model\n",
    "knn_classifier = KNeighborsClassifier(5)\n",
    "knn_classifier.fit(X_train, y_train)"
   ]
  },
  {
   "cell_type": "code",
   "execution_count": 158,
   "metadata": {},
   "outputs": [],
   "source": [
    "y_pred = knn_classifier.predict(X_test)"
   ]
  },
  {
   "cell_type": "code",
   "execution_count": null,
   "metadata": {},
   "outputs": [],
   "source": []
  },
  {
   "cell_type": "code",
   "execution_count": 159,
   "metadata": {},
   "outputs": [
    {
     "name": "stdout",
     "output_type": "stream",
     "text": [
      "classification report:               precision    recall  f1-score   support\n",
      "\n",
      "           0       0.91      0.92      0.92     20998\n",
      "           1       0.23      0.21      0.22      2282\n",
      "\n",
      "    accuracy                           0.85     23280\n",
      "   macro avg       0.57      0.57      0.57     23280\n",
      "weighted avg       0.85      0.85      0.85     23280\n",
      "\n"
     ]
    }
   ],
   "source": [
    "from sklearn.metrics import classification_report\n",
    "report = classification_report(y_test, y_pred)\n",
    "print(\"classification report:\", report)"
   ]
  },
  {
   "cell_type": "code",
   "execution_count": 160,
   "metadata": {},
   "outputs": [],
   "source": [
    "from imblearn.under_sampling import NearMiss\n",
    "nm = NearMiss()\n",
    "X_res, y_res = nm.fit_resample(X_train, y_train)\n"
   ]
  },
  {
   "cell_type": "code",
   "execution_count": 161,
   "metadata": {},
   "outputs": [
    {
     "data": {
      "text/html": [
       "<style>#sk-container-id-9 {color: black;}#sk-container-id-9 pre{padding: 0;}#sk-container-id-9 div.sk-toggleable {background-color: white;}#sk-container-id-9 label.sk-toggleable__label {cursor: pointer;display: block;width: 100%;margin-bottom: 0;padding: 0.3em;box-sizing: border-box;text-align: center;}#sk-container-id-9 label.sk-toggleable__label-arrow:before {content: \"▸\";float: left;margin-right: 0.25em;color: #696969;}#sk-container-id-9 label.sk-toggleable__label-arrow:hover:before {color: black;}#sk-container-id-9 div.sk-estimator:hover label.sk-toggleable__label-arrow:before {color: black;}#sk-container-id-9 div.sk-toggleable__content {max-height: 0;max-width: 0;overflow: hidden;text-align: left;background-color: #f0f8ff;}#sk-container-id-9 div.sk-toggleable__content pre {margin: 0.2em;color: black;border-radius: 0.25em;background-color: #f0f8ff;}#sk-container-id-9 input.sk-toggleable__control:checked~div.sk-toggleable__content {max-height: 200px;max-width: 100%;overflow: auto;}#sk-container-id-9 input.sk-toggleable__control:checked~label.sk-toggleable__label-arrow:before {content: \"▾\";}#sk-container-id-9 div.sk-estimator input.sk-toggleable__control:checked~label.sk-toggleable__label {background-color: #d4ebff;}#sk-container-id-9 div.sk-label input.sk-toggleable__control:checked~label.sk-toggleable__label {background-color: #d4ebff;}#sk-container-id-9 input.sk-hidden--visually {border: 0;clip: rect(1px 1px 1px 1px);clip: rect(1px, 1px, 1px, 1px);height: 1px;margin: -1px;overflow: hidden;padding: 0;position: absolute;width: 1px;}#sk-container-id-9 div.sk-estimator {font-family: monospace;background-color: #f0f8ff;border: 1px dotted black;border-radius: 0.25em;box-sizing: border-box;margin-bottom: 0.5em;}#sk-container-id-9 div.sk-estimator:hover {background-color: #d4ebff;}#sk-container-id-9 div.sk-parallel-item::after {content: \"\";width: 100%;border-bottom: 1px solid gray;flex-grow: 1;}#sk-container-id-9 div.sk-label:hover label.sk-toggleable__label {background-color: #d4ebff;}#sk-container-id-9 div.sk-serial::before {content: \"\";position: absolute;border-left: 1px solid gray;box-sizing: border-box;top: 0;bottom: 0;left: 50%;z-index: 0;}#sk-container-id-9 div.sk-serial {display: flex;flex-direction: column;align-items: center;background-color: white;padding-right: 0.2em;padding-left: 0.2em;position: relative;}#sk-container-id-9 div.sk-item {position: relative;z-index: 1;}#sk-container-id-9 div.sk-parallel {display: flex;align-items: stretch;justify-content: center;background-color: white;position: relative;}#sk-container-id-9 div.sk-item::before, #sk-container-id-9 div.sk-parallel-item::before {content: \"\";position: absolute;border-left: 1px solid gray;box-sizing: border-box;top: 0;bottom: 0;left: 50%;z-index: -1;}#sk-container-id-9 div.sk-parallel-item {display: flex;flex-direction: column;z-index: 1;position: relative;background-color: white;}#sk-container-id-9 div.sk-parallel-item:first-child::after {align-self: flex-end;width: 50%;}#sk-container-id-9 div.sk-parallel-item:last-child::after {align-self: flex-start;width: 50%;}#sk-container-id-9 div.sk-parallel-item:only-child::after {width: 0;}#sk-container-id-9 div.sk-dashed-wrapped {border: 1px dashed gray;margin: 0 0.4em 0.5em 0.4em;box-sizing: border-box;padding-bottom: 0.4em;background-color: white;}#sk-container-id-9 div.sk-label label {font-family: monospace;font-weight: bold;display: inline-block;line-height: 1.2em;}#sk-container-id-9 div.sk-label-container {text-align: center;}#sk-container-id-9 div.sk-container {/* jupyter's `normalize.less` sets `[hidden] { display: none; }` but bootstrap.min.css set `[hidden] { display: none !important; }` so we also need the `!important` here to be able to override the default hidden behavior on the sphinx rendered scikit-learn.org. See: https://github.com/scikit-learn/scikit-learn/issues/21755 */display: inline-block !important;position: relative;}#sk-container-id-9 div.sk-text-repr-fallback {display: none;}</style><div id=\"sk-container-id-9\" class=\"sk-top-container\"><div class=\"sk-text-repr-fallback\"><pre>KNeighborsClassifier()</pre><b>In a Jupyter environment, please rerun this cell to show the HTML representation or trust the notebook. <br />On GitHub, the HTML representation is unable to render, please try loading this page with nbviewer.org.</b></div><div class=\"sk-container\" hidden><div class=\"sk-item\"><div class=\"sk-estimator sk-toggleable\"><input class=\"sk-toggleable__control sk-hidden--visually\" id=\"sk-estimator-id-9\" type=\"checkbox\" checked><label for=\"sk-estimator-id-9\" class=\"sk-toggleable__label sk-toggleable__label-arrow\">KNeighborsClassifier</label><div class=\"sk-toggleable__content\"><pre>KNeighborsClassifier()</pre></div></div></div></div></div>"
      ],
      "text/plain": [
       "KNeighborsClassifier()"
      ]
     },
     "execution_count": 161,
     "metadata": {},
     "output_type": "execute_result"
    }
   ],
   "source": [
    "# Train the Model\n",
    "knn_classifier.fit(X_res, y_res)"
   ]
  },
  {
   "cell_type": "code",
   "execution_count": 162,
   "metadata": {},
   "outputs": [
    {
     "data": {
      "text/plain": [
       "array([0, 0, 0, ..., 0, 0, 0])"
      ]
     },
     "execution_count": 162,
     "metadata": {},
     "output_type": "execute_result"
    }
   ],
   "source": [
    "y_pred = knn_classifier.predict(X_test)\n",
    "y_pred "
   ]
  },
  {
   "cell_type": "code",
   "execution_count": 163,
   "metadata": {},
   "outputs": [
    {
     "name": "stdout",
     "output_type": "stream",
     "text": [
      "              precision    recall  f1-score   support\n",
      "\n",
      "           0       0.91      0.92      0.92     20998\n",
      "           1       0.23      0.21      0.22      2282\n",
      "\n",
      "    accuracy                           0.85     23280\n",
      "   macro avg       0.57      0.57      0.57     23280\n",
      "weighted avg       0.85      0.85      0.85     23280\n",
      "\n"
     ]
    }
   ],
   "source": [
    "classification_report = classification_report(y_test, y_pred)\n",
    "print(classification_report)"
   ]
  },
  {
   "cell_type": "code",
   "execution_count": 164,
   "metadata": {},
   "outputs": [
    {
     "data": {
      "text/plain": [
       "array([[0.0000e+00, 0.0000e+00],\n",
       "       [1.0000e+00, 0.0000e+00],\n",
       "       [2.0000e+00, 0.0000e+00],\n",
       "       ...,\n",
       "       [2.3277e+04, 0.0000e+00],\n",
       "       [2.3278e+04, 0.0000e+00],\n",
       "       [2.3279e+04, 0.0000e+00]])"
      ]
     },
     "execution_count": 164,
     "metadata": {},
     "output_type": "execute_result"
    }
   ],
   "source": [
    "y_test_reshaped = np.hstack((np.arange(len(y_test)).reshape(-1,1), np.zeros((len(y_test), 1))))\n",
    "y_test_reshaped"
   ]
  },
  {
   "cell_type": "code",
   "execution_count": 165,
   "metadata": {},
   "outputs": [
    {
     "data": {
      "text/plain": [
       "(23280, 2)"
      ]
     },
     "execution_count": 165,
     "metadata": {},
     "output_type": "execute_result"
    }
   ],
   "source": [
    "y_test_reshaped.shape"
   ]
  },
  {
   "cell_type": "code",
   "execution_count": 166,
   "metadata": {},
   "outputs": [
    {
     "data": {
      "text/plain": [
       "(23280,)"
      ]
     },
     "execution_count": 166,
     "metadata": {},
     "output_type": "execute_result"
    }
   ],
   "source": [
    "y_true = y_test\n",
    "y_true.shape"
   ]
  },
  {
   "cell_type": "code",
   "execution_count": 167,
   "metadata": {},
   "outputs": [
    {
     "data": {
      "text/plain": [
       "array([0, 0, 0, ..., 0, 0, 0])"
      ]
     },
     "execution_count": 167,
     "metadata": {},
     "output_type": "execute_result"
    }
   ],
   "source": [
    "y_pred"
   ]
  },
  {
   "cell_type": "code",
   "execution_count": 168,
   "metadata": {},
   "outputs": [
    {
     "data": {
      "text/plain": [
       "array([[0.0000e+00, 0.0000e+00],\n",
       "       [1.0000e+00, 0.0000e+00],\n",
       "       [2.0000e+00, 0.0000e+00],\n",
       "       ...,\n",
       "       [9.9225e+04, 0.0000e+00],\n",
       "       [9.9226e+04, 0.0000e+00],\n",
       "       [9.9227e+04, 0.0000e+00]])"
      ]
     },
     "execution_count": 168,
     "metadata": {},
     "output_type": "execute_result"
    }
   ],
   "source": [
    "y_train_reshaped = np.hstack((np.arange(len(y_train)).reshape(-1,1), np.zeros((len(y_train), 1))))\n",
    "y_train_reshaped"
   ]
  },
  {
   "cell_type": "code",
   "execution_count": 169,
   "metadata": {},
   "outputs": [],
   "source": [
    "# Initialize the SVM Classifier\n",
    "svm_classifier = SVC()"
   ]
  },
  {
   "cell_type": "code",
   "execution_count": 170,
   "metadata": {},
   "outputs": [],
   "source": [
    "y_train_target = y_train"
   ]
  },
  {
   "cell_type": "code",
   "execution_count": 171,
   "metadata": {},
   "outputs": [],
   "source": [
    "# Train the Model\n",
    "#svm_classifier.fit(X_train_pca, y_train_target)"
   ]
  },
  {
   "cell_type": "code",
   "execution_count": 172,
   "metadata": {},
   "outputs": [
    {
     "data": {
      "text/html": [
       "<style>#sk-container-id-10 {color: black;}#sk-container-id-10 pre{padding: 0;}#sk-container-id-10 div.sk-toggleable {background-color: white;}#sk-container-id-10 label.sk-toggleable__label {cursor: pointer;display: block;width: 100%;margin-bottom: 0;padding: 0.3em;box-sizing: border-box;text-align: center;}#sk-container-id-10 label.sk-toggleable__label-arrow:before {content: \"▸\";float: left;margin-right: 0.25em;color: #696969;}#sk-container-id-10 label.sk-toggleable__label-arrow:hover:before {color: black;}#sk-container-id-10 div.sk-estimator:hover label.sk-toggleable__label-arrow:before {color: black;}#sk-container-id-10 div.sk-toggleable__content {max-height: 0;max-width: 0;overflow: hidden;text-align: left;background-color: #f0f8ff;}#sk-container-id-10 div.sk-toggleable__content pre {margin: 0.2em;color: black;border-radius: 0.25em;background-color: #f0f8ff;}#sk-container-id-10 input.sk-toggleable__control:checked~div.sk-toggleable__content {max-height: 200px;max-width: 100%;overflow: auto;}#sk-container-id-10 input.sk-toggleable__control:checked~label.sk-toggleable__label-arrow:before {content: \"▾\";}#sk-container-id-10 div.sk-estimator input.sk-toggleable__control:checked~label.sk-toggleable__label {background-color: #d4ebff;}#sk-container-id-10 div.sk-label input.sk-toggleable__control:checked~label.sk-toggleable__label {background-color: #d4ebff;}#sk-container-id-10 input.sk-hidden--visually {border: 0;clip: rect(1px 1px 1px 1px);clip: rect(1px, 1px, 1px, 1px);height: 1px;margin: -1px;overflow: hidden;padding: 0;position: absolute;width: 1px;}#sk-container-id-10 div.sk-estimator {font-family: monospace;background-color: #f0f8ff;border: 1px dotted black;border-radius: 0.25em;box-sizing: border-box;margin-bottom: 0.5em;}#sk-container-id-10 div.sk-estimator:hover {background-color: #d4ebff;}#sk-container-id-10 div.sk-parallel-item::after {content: \"\";width: 100%;border-bottom: 1px solid gray;flex-grow: 1;}#sk-container-id-10 div.sk-label:hover label.sk-toggleable__label {background-color: #d4ebff;}#sk-container-id-10 div.sk-serial::before {content: \"\";position: absolute;border-left: 1px solid gray;box-sizing: border-box;top: 0;bottom: 0;left: 50%;z-index: 0;}#sk-container-id-10 div.sk-serial {display: flex;flex-direction: column;align-items: center;background-color: white;padding-right: 0.2em;padding-left: 0.2em;position: relative;}#sk-container-id-10 div.sk-item {position: relative;z-index: 1;}#sk-container-id-10 div.sk-parallel {display: flex;align-items: stretch;justify-content: center;background-color: white;position: relative;}#sk-container-id-10 div.sk-item::before, #sk-container-id-10 div.sk-parallel-item::before {content: \"\";position: absolute;border-left: 1px solid gray;box-sizing: border-box;top: 0;bottom: 0;left: 50%;z-index: -1;}#sk-container-id-10 div.sk-parallel-item {display: flex;flex-direction: column;z-index: 1;position: relative;background-color: white;}#sk-container-id-10 div.sk-parallel-item:first-child::after {align-self: flex-end;width: 50%;}#sk-container-id-10 div.sk-parallel-item:last-child::after {align-self: flex-start;width: 50%;}#sk-container-id-10 div.sk-parallel-item:only-child::after {width: 0;}#sk-container-id-10 div.sk-dashed-wrapped {border: 1px dashed gray;margin: 0 0.4em 0.5em 0.4em;box-sizing: border-box;padding-bottom: 0.4em;background-color: white;}#sk-container-id-10 div.sk-label label {font-family: monospace;font-weight: bold;display: inline-block;line-height: 1.2em;}#sk-container-id-10 div.sk-label-container {text-align: center;}#sk-container-id-10 div.sk-container {/* jupyter's `normalize.less` sets `[hidden] { display: none; }` but bootstrap.min.css set `[hidden] { display: none !important; }` so we also need the `!important` here to be able to override the default hidden behavior on the sphinx rendered scikit-learn.org. See: https://github.com/scikit-learn/scikit-learn/issues/21755 */display: inline-block !important;position: relative;}#sk-container-id-10 div.sk-text-repr-fallback {display: none;}</style><div id=\"sk-container-id-10\" class=\"sk-top-container\"><div class=\"sk-text-repr-fallback\"><pre>SVC()</pre><b>In a Jupyter environment, please rerun this cell to show the HTML representation or trust the notebook. <br />On GitHub, the HTML representation is unable to render, please try loading this page with nbviewer.org.</b></div><div class=\"sk-container\" hidden><div class=\"sk-item\"><div class=\"sk-estimator sk-toggleable\"><input class=\"sk-toggleable__control sk-hidden--visually\" id=\"sk-estimator-id-10\" type=\"checkbox\" checked><label for=\"sk-estimator-id-10\" class=\"sk-toggleable__label sk-toggleable__label-arrow\">SVC</label><div class=\"sk-toggleable__content\"><pre>SVC()</pre></div></div></div></div></div>"
      ],
      "text/plain": [
       "SVC()"
      ]
     },
     "execution_count": 172,
     "metadata": {},
     "output_type": "execute_result"
    }
   ],
   "source": [
    "# Instantiate the SVM classifier\n",
    "svm_classifier = SVC()\n",
    "\n",
    "# Train the SVM classifier on the training data\n",
    "svm_classifier.fit(X_train_pca, y_train_target)"
   ]
  },
  {
   "cell_type": "code",
   "execution_count": 173,
   "metadata": {},
   "outputs": [
    {
     "data": {
      "text/plain": [
       "array([1, 1, 1, ..., 0, 0, 0])"
      ]
     },
     "execution_count": 173,
     "metadata": {},
     "output_type": "execute_result"
    }
   ],
   "source": [
    "# Make Predictions\n",
    "y_pred_svm = svm_classifier.predict(X_test_pca)\n",
    "#y_pred_svm = y_pred_svm[: ,1]\n",
    "y_pred_svm"
   ]
  },
  {
   "cell_type": "code",
   "execution_count": 174,
   "metadata": {},
   "outputs": [
    {
     "data": {
      "text/plain": [
       "0        0\n",
       "1        0\n",
       "2        0\n",
       "3        0\n",
       "4        0\n",
       "        ..\n",
       "23275    0\n",
       "23276    0\n",
       "23277    0\n",
       "23278    0\n",
       "23279    0\n",
       "Name: target, Length: 23280, dtype: int64"
      ]
     },
     "execution_count": 174,
     "metadata": {},
     "output_type": "execute_result"
    }
   ],
   "source": [
    "y_test_target = y_test\n",
    "y_test_target"
   ]
  },
  {
   "cell_type": "code",
   "execution_count": 175,
   "metadata": {},
   "outputs": [
    {
     "data": {
      "text/plain": [
       "array([0, 0, 0, ..., 0, 0, 0])"
      ]
     },
     "execution_count": 175,
     "metadata": {},
     "output_type": "execute_result"
    }
   ],
   "source": [
    "y_test_array = np.array(y_test_target)\n",
    "y_test_array"
   ]
  },
  {
   "cell_type": "code",
   "execution_count": 176,
   "metadata": {},
   "outputs": [
    {
     "name": "stdout",
     "output_type": "stream",
     "text": [
      "SVM Accuracy: 0.7783505154639175\n"
     ]
    }
   ],
   "source": [
    "# Calculate accuracy\n",
    "accuracy_svm = accuracy_score(y_test, y_pred_svm)\n",
    "print(\"SVM Accuracy:\", accuracy_svm)"
   ]
  },
  {
   "cell_type": "markdown",
   "metadata": {},
   "source": [
    "the svm accuracy for the train\n"
   ]
  },
  {
   "cell_type": "code",
   "execution_count": 177,
   "metadata": {},
   "outputs": [
    {
     "data": {
      "text/plain": [
       "array([1, 1, 1, ..., 1, 1, 1])"
      ]
     },
     "execution_count": 177,
     "metadata": {},
     "output_type": "execute_result"
    }
   ],
   "source": [
    "# Make Predictions\n",
    "y_pred_svm_train = svm_classifier.predict(X_train_pca)\n",
    "y_pred_svm_train"
   ]
  },
  {
   "cell_type": "code",
   "execution_count": 178,
   "metadata": {},
   "outputs": [
    {
     "data": {
      "text/plain": [
       "array([0, 0, 0, ..., 1, 1, 1])"
      ]
     },
     "execution_count": 178,
     "metadata": {},
     "output_type": "execute_result"
    }
   ],
   "source": [
    "y_train_target = y_train\n",
    "y_train_target = np.array(y_train_target)\n",
    "y_train_target"
   ]
  },
  {
   "cell_type": "code",
   "execution_count": 179,
   "metadata": {},
   "outputs": [
    {
     "name": "stdout",
     "output_type": "stream",
     "text": [
      "SVM Accuracy: 0.8408412947958238\n"
     ]
    }
   ],
   "source": [
    "# Calculate accuracy\n",
    "accuracy_svm_train = accuracy_score(y_train_target, y_pred_svm_train) \n",
    "print(\"SVM Accuracy:\", accuracy_svm_train)"
   ]
  },
  {
   "cell_type": "code",
   "execution_count": 180,
   "metadata": {},
   "outputs": [
    {
     "name": "stdout",
     "output_type": "stream",
     "text": [
      "              precision    recall  f1-score   support\n",
      "\n",
      "           0       0.88      0.79      0.83     49655\n",
      "           1       0.81      0.89      0.85     49573\n",
      "\n",
      "    accuracy                           0.84     99228\n",
      "   macro avg       0.84      0.84      0.84     99228\n",
      "weighted avg       0.84      0.84      0.84     99228\n",
      "\n"
     ]
    }
   ],
   "source": [
    "# Calculate accuracy\n",
    "from sklearn.metrics import classification_report\n",
    "classification_report_svm_train = classification_report(y_train_target, y_pred_svm_train) \n",
    "print(classification_report_svm_train)"
   ]
  },
  {
   "cell_type": "code",
   "execution_count": 181,
   "metadata": {},
   "outputs": [
    {
     "name": "stdout",
     "output_type": "stream",
     "text": [
      "Class distribution after oversampling: Counter({0: 49655, 1: 49655})\n"
     ]
    }
   ],
   "source": [
    "from imblearn.over_sampling import SMOTE\n",
    "\n",
    "# Initialize SMOTE\n",
    "smote = SMOTE(random_state=42)\n",
    "\n",
    "# Perform oversampling\n",
    "X_train_oversampled, y_train_oversampled = smote.fit_resample(X_train_pca, y_train)\n",
    "\n",
    "# Check class distribution after oversampling\n",
    "print(\"Class distribution after oversampling:\", Counter(y_train_oversampled))"
   ]
  },
  {
   "cell_type": "code",
   "execution_count": 182,
   "metadata": {},
   "outputs": [
    {
     "data": {
      "text/html": [
       "<style>#sk-container-id-11 {color: black;}#sk-container-id-11 pre{padding: 0;}#sk-container-id-11 div.sk-toggleable {background-color: white;}#sk-container-id-11 label.sk-toggleable__label {cursor: pointer;display: block;width: 100%;margin-bottom: 0;padding: 0.3em;box-sizing: border-box;text-align: center;}#sk-container-id-11 label.sk-toggleable__label-arrow:before {content: \"▸\";float: left;margin-right: 0.25em;color: #696969;}#sk-container-id-11 label.sk-toggleable__label-arrow:hover:before {color: black;}#sk-container-id-11 div.sk-estimator:hover label.sk-toggleable__label-arrow:before {color: black;}#sk-container-id-11 div.sk-toggleable__content {max-height: 0;max-width: 0;overflow: hidden;text-align: left;background-color: #f0f8ff;}#sk-container-id-11 div.sk-toggleable__content pre {margin: 0.2em;color: black;border-radius: 0.25em;background-color: #f0f8ff;}#sk-container-id-11 input.sk-toggleable__control:checked~div.sk-toggleable__content {max-height: 200px;max-width: 100%;overflow: auto;}#sk-container-id-11 input.sk-toggleable__control:checked~label.sk-toggleable__label-arrow:before {content: \"▾\";}#sk-container-id-11 div.sk-estimator input.sk-toggleable__control:checked~label.sk-toggleable__label {background-color: #d4ebff;}#sk-container-id-11 div.sk-label input.sk-toggleable__control:checked~label.sk-toggleable__label {background-color: #d4ebff;}#sk-container-id-11 input.sk-hidden--visually {border: 0;clip: rect(1px 1px 1px 1px);clip: rect(1px, 1px, 1px, 1px);height: 1px;margin: -1px;overflow: hidden;padding: 0;position: absolute;width: 1px;}#sk-container-id-11 div.sk-estimator {font-family: monospace;background-color: #f0f8ff;border: 1px dotted black;border-radius: 0.25em;box-sizing: border-box;margin-bottom: 0.5em;}#sk-container-id-11 div.sk-estimator:hover {background-color: #d4ebff;}#sk-container-id-11 div.sk-parallel-item::after {content: \"\";width: 100%;border-bottom: 1px solid gray;flex-grow: 1;}#sk-container-id-11 div.sk-label:hover label.sk-toggleable__label {background-color: #d4ebff;}#sk-container-id-11 div.sk-serial::before {content: \"\";position: absolute;border-left: 1px solid gray;box-sizing: border-box;top: 0;bottom: 0;left: 50%;z-index: 0;}#sk-container-id-11 div.sk-serial {display: flex;flex-direction: column;align-items: center;background-color: white;padding-right: 0.2em;padding-left: 0.2em;position: relative;}#sk-container-id-11 div.sk-item {position: relative;z-index: 1;}#sk-container-id-11 div.sk-parallel {display: flex;align-items: stretch;justify-content: center;background-color: white;position: relative;}#sk-container-id-11 div.sk-item::before, #sk-container-id-11 div.sk-parallel-item::before {content: \"\";position: absolute;border-left: 1px solid gray;box-sizing: border-box;top: 0;bottom: 0;left: 50%;z-index: -1;}#sk-container-id-11 div.sk-parallel-item {display: flex;flex-direction: column;z-index: 1;position: relative;background-color: white;}#sk-container-id-11 div.sk-parallel-item:first-child::after {align-self: flex-end;width: 50%;}#sk-container-id-11 div.sk-parallel-item:last-child::after {align-self: flex-start;width: 50%;}#sk-container-id-11 div.sk-parallel-item:only-child::after {width: 0;}#sk-container-id-11 div.sk-dashed-wrapped {border: 1px dashed gray;margin: 0 0.4em 0.5em 0.4em;box-sizing: border-box;padding-bottom: 0.4em;background-color: white;}#sk-container-id-11 div.sk-label label {font-family: monospace;font-weight: bold;display: inline-block;line-height: 1.2em;}#sk-container-id-11 div.sk-label-container {text-align: center;}#sk-container-id-11 div.sk-container {/* jupyter's `normalize.less` sets `[hidden] { display: none; }` but bootstrap.min.css set `[hidden] { display: none !important; }` so we also need the `!important` here to be able to override the default hidden behavior on the sphinx rendered scikit-learn.org. See: https://github.com/scikit-learn/scikit-learn/issues/21755 */display: inline-block !important;position: relative;}#sk-container-id-11 div.sk-text-repr-fallback {display: none;}</style><div id=\"sk-container-id-11\" class=\"sk-top-container\"><div class=\"sk-text-repr-fallback\"><pre>SVC()</pre><b>In a Jupyter environment, please rerun this cell to show the HTML representation or trust the notebook. <br />On GitHub, the HTML representation is unable to render, please try loading this page with nbviewer.org.</b></div><div class=\"sk-container\" hidden><div class=\"sk-item\"><div class=\"sk-estimator sk-toggleable\"><input class=\"sk-toggleable__control sk-hidden--visually\" id=\"sk-estimator-id-11\" type=\"checkbox\" checked><label for=\"sk-estimator-id-11\" class=\"sk-toggleable__label sk-toggleable__label-arrow\">SVC</label><div class=\"sk-toggleable__content\"><pre>SVC()</pre></div></div></div></div></div>"
      ],
      "text/plain": [
       "SVC()"
      ]
     },
     "execution_count": 182,
     "metadata": {},
     "output_type": "execute_result"
    }
   ],
   "source": [
    "# Instantiate the SVM classifier\n",
    "svm_classifier = SVC()\n",
    "\n",
    "# Train the SVM classifier on the training data\n",
    "svm_classifier.fit(X_train_oversampled, y_train_oversampled)"
   ]
  },
  {
   "cell_type": "code",
   "execution_count": 183,
   "metadata": {},
   "outputs": [
    {
     "data": {
      "text/plain": [
       "array([1, 1, 1, ..., 0, 0, 0])"
      ]
     },
     "execution_count": 183,
     "metadata": {},
     "output_type": "execute_result"
    }
   ],
   "source": [
    "# Make Predictions\n",
    "y_pred_svm = svm_classifier.predict(X_test_pca)\n",
    "#y_pred_svm = y_pred_svm[: ,1]\n",
    "y_pred_svm"
   ]
  },
  {
   "cell_type": "code",
   "execution_count": 184,
   "metadata": {},
   "outputs": [
    {
     "name": "stdout",
     "output_type": "stream",
     "text": [
      "              precision    recall  f1-score   support\n",
      "\n",
      "           0       0.91      0.84      0.87     20998\n",
      "           1       0.13      0.21      0.16      2282\n",
      "\n",
      "    accuracy                           0.78     23280\n",
      "   macro avg       0.52      0.53      0.52     23280\n",
      "weighted avg       0.83      0.78      0.80     23280\n",
      "\n"
     ]
    }
   ],
   "source": [
    "# Calculate accuracy\n",
    "classification_report_svm_train = classification_report(y_test_target, y_pred_svm) \n",
    "print(classification_report_svm_train)"
   ]
  },
  {
   "cell_type": "code",
   "execution_count": 185,
   "metadata": {},
   "outputs": [
    {
     "data": {
      "text/html": [
       "<style>#sk-container-id-12 {color: black;}#sk-container-id-12 pre{padding: 0;}#sk-container-id-12 div.sk-toggleable {background-color: white;}#sk-container-id-12 label.sk-toggleable__label {cursor: pointer;display: block;width: 100%;margin-bottom: 0;padding: 0.3em;box-sizing: border-box;text-align: center;}#sk-container-id-12 label.sk-toggleable__label-arrow:before {content: \"▸\";float: left;margin-right: 0.25em;color: #696969;}#sk-container-id-12 label.sk-toggleable__label-arrow:hover:before {color: black;}#sk-container-id-12 div.sk-estimator:hover label.sk-toggleable__label-arrow:before {color: black;}#sk-container-id-12 div.sk-toggleable__content {max-height: 0;max-width: 0;overflow: hidden;text-align: left;background-color: #f0f8ff;}#sk-container-id-12 div.sk-toggleable__content pre {margin: 0.2em;color: black;border-radius: 0.25em;background-color: #f0f8ff;}#sk-container-id-12 input.sk-toggleable__control:checked~div.sk-toggleable__content {max-height: 200px;max-width: 100%;overflow: auto;}#sk-container-id-12 input.sk-toggleable__control:checked~label.sk-toggleable__label-arrow:before {content: \"▾\";}#sk-container-id-12 div.sk-estimator input.sk-toggleable__control:checked~label.sk-toggleable__label {background-color: #d4ebff;}#sk-container-id-12 div.sk-label input.sk-toggleable__control:checked~label.sk-toggleable__label {background-color: #d4ebff;}#sk-container-id-12 input.sk-hidden--visually {border: 0;clip: rect(1px 1px 1px 1px);clip: rect(1px, 1px, 1px, 1px);height: 1px;margin: -1px;overflow: hidden;padding: 0;position: absolute;width: 1px;}#sk-container-id-12 div.sk-estimator {font-family: monospace;background-color: #f0f8ff;border: 1px dotted black;border-radius: 0.25em;box-sizing: border-box;margin-bottom: 0.5em;}#sk-container-id-12 div.sk-estimator:hover {background-color: #d4ebff;}#sk-container-id-12 div.sk-parallel-item::after {content: \"\";width: 100%;border-bottom: 1px solid gray;flex-grow: 1;}#sk-container-id-12 div.sk-label:hover label.sk-toggleable__label {background-color: #d4ebff;}#sk-container-id-12 div.sk-serial::before {content: \"\";position: absolute;border-left: 1px solid gray;box-sizing: border-box;top: 0;bottom: 0;left: 50%;z-index: 0;}#sk-container-id-12 div.sk-serial {display: flex;flex-direction: column;align-items: center;background-color: white;padding-right: 0.2em;padding-left: 0.2em;position: relative;}#sk-container-id-12 div.sk-item {position: relative;z-index: 1;}#sk-container-id-12 div.sk-parallel {display: flex;align-items: stretch;justify-content: center;background-color: white;position: relative;}#sk-container-id-12 div.sk-item::before, #sk-container-id-12 div.sk-parallel-item::before {content: \"\";position: absolute;border-left: 1px solid gray;box-sizing: border-box;top: 0;bottom: 0;left: 50%;z-index: -1;}#sk-container-id-12 div.sk-parallel-item {display: flex;flex-direction: column;z-index: 1;position: relative;background-color: white;}#sk-container-id-12 div.sk-parallel-item:first-child::after {align-self: flex-end;width: 50%;}#sk-container-id-12 div.sk-parallel-item:last-child::after {align-self: flex-start;width: 50%;}#sk-container-id-12 div.sk-parallel-item:only-child::after {width: 0;}#sk-container-id-12 div.sk-dashed-wrapped {border: 1px dashed gray;margin: 0 0.4em 0.5em 0.4em;box-sizing: border-box;padding-bottom: 0.4em;background-color: white;}#sk-container-id-12 div.sk-label label {font-family: monospace;font-weight: bold;display: inline-block;line-height: 1.2em;}#sk-container-id-12 div.sk-label-container {text-align: center;}#sk-container-id-12 div.sk-container {/* jupyter's `normalize.less` sets `[hidden] { display: none; }` but bootstrap.min.css set `[hidden] { display: none !important; }` so we also need the `!important` here to be able to override the default hidden behavior on the sphinx rendered scikit-learn.org. See: https://github.com/scikit-learn/scikit-learn/issues/21755 */display: inline-block !important;position: relative;}#sk-container-id-12 div.sk-text-repr-fallback {display: none;}</style><div id=\"sk-container-id-12\" class=\"sk-top-container\"><div class=\"sk-text-repr-fallback\"><pre>KNeighborsClassifier()</pre><b>In a Jupyter environment, please rerun this cell to show the HTML representation or trust the notebook. <br />On GitHub, the HTML representation is unable to render, please try loading this page with nbviewer.org.</b></div><div class=\"sk-container\" hidden><div class=\"sk-item\"><div class=\"sk-estimator sk-toggleable\"><input class=\"sk-toggleable__control sk-hidden--visually\" id=\"sk-estimator-id-12\" type=\"checkbox\" checked><label for=\"sk-estimator-id-12\" class=\"sk-toggleable__label sk-toggleable__label-arrow\">KNeighborsClassifier</label><div class=\"sk-toggleable__content\"><pre>KNeighborsClassifier()</pre></div></div></div></div></div>"
      ],
      "text/plain": [
       "KNeighborsClassifier()"
      ]
     },
     "execution_count": 185,
     "metadata": {},
     "output_type": "execute_result"
    }
   ],
   "source": [
    "# Train the Model\n",
    "knn_classifier.fit(X_train_oversampled, y_train_oversampled)\n"
   ]
  },
  {
   "cell_type": "code",
   "execution_count": 186,
   "metadata": {},
   "outputs": [
    {
     "data": {
      "text/plain": [
       "array([0, 0, 0, ..., 0, 0, 0])"
      ]
     },
     "execution_count": 186,
     "metadata": {},
     "output_type": "execute_result"
    }
   ],
   "source": [
    "y_pred = knn_classifier.predict(X_test_pca)\n",
    "y_pred\n"
   ]
  },
  {
   "cell_type": "code",
   "execution_count": 187,
   "metadata": {},
   "outputs": [
    {
     "ename": "NameError",
     "evalue": "name 'y_test2' is not defined",
     "output_type": "error",
     "traceback": [
      "\u001b[0;31m---------------------------------------------------------------------------\u001b[0m",
      "\u001b[0;31mNameError\u001b[0m                                 Traceback (most recent call last)",
      "Cell \u001b[0;32mIn[187], line 1\u001b[0m\n\u001b[0;32m----> 1\u001b[0m classification_report \u001b[38;5;241m=\u001b[39m classification_report(\u001b[43my_test2\u001b[49m, y_pred)\n\u001b[1;32m      2\u001b[0m \u001b[38;5;28mprint\u001b[39m(classification_report) \n",
      "\u001b[0;31mNameError\u001b[0m: name 'y_test2' is not defined"
     ]
    }
   ],
   "source": [
    "classification_report = classification_report(y_test2, y_pred)\n",
    "print(classification_report) "
   ]
  },
  {
   "cell_type": "code",
   "execution_count": null,
   "metadata": {},
   "outputs": [],
   "source": []
  },
  {
   "cell_type": "code",
   "execution_count": null,
   "metadata": {},
   "outputs": [],
   "source": []
  },
  {
   "cell_type": "code",
   "execution_count": null,
   "metadata": {},
   "outputs": [],
   "source": []
  },
  {
   "cell_type": "code",
   "execution_count": null,
   "metadata": {},
   "outputs": [],
   "source": []
  }
 ],
 "metadata": {
  "kernelspec": {
   "display_name": "DM_ENV",
   "language": "python",
   "name": "python3"
  },
  "language_info": {
   "codemirror_mode": {
    "name": "ipython",
    "version": 3
   },
   "file_extension": ".py",
   "mimetype": "text/x-python",
   "name": "python",
   "nbconvert_exporter": "python",
   "pygments_lexer": "ipython3",
   "version": "3.12.3"
  }
 },
 "nbformat": 4,
 "nbformat_minor": 2
}
